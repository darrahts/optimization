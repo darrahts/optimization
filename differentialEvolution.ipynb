{
 "cells": [
  {
   "cell_type": "markdown",
   "metadata": {},
   "source": [
    "## Differential Evoloution\n",
    "- initialize a random population of candidate solutions\n",
    "- for each individual in population\n",
    "    - mutate\n",
    "    - crossover\n",
    "    - select\n",
    "    - repeat or exit\n",
    "- - similar to GA but but performs mutation and crossover on float values (rather than bit strings)\n",
    "- https://www.sciencedirect.com/science/article/abs/pii/S0378779615001947\n",
    "- https://pablormier.github.io/2017/09/05/a-tutorial-on-differential-evolution-with-python/#\n",
    "- https://stackoverflow.com/questions/9506809/whats-differential-evolution-and-how-does-it-compare-to-a-genetic-algorithm\n",
    "- https://nathanrooy.github.io/posts/2017-08-27/simple-differential-evolution-with-python/\n",
    "    "
   ]
  },
  {
   "cell_type": "code",
   "execution_count": 35,
   "metadata": {},
   "outputs": [],
   "source": [
    "import random\n",
    "import numpy as np"
   ]
  },
  {
   "cell_type": "code",
   "execution_count": 83,
   "metadata": {},
   "outputs": [],
   "source": [
    "def ObjectiveFunction(x):\n",
    "    \"\"\"\n",
    "        The function to minimize\n",
    "    \"\"\"\n",
    "    # sphere problem http://www.sfu.ca/~ssurjano/spheref.html\n",
    "    return sum([x[i]**2 for i in range(len(x))])"
   ]
  },
  {
   "cell_type": "code",
   "execution_count": 91,
   "metadata": {},
   "outputs": [],
   "source": [
    "objectiveFunction = lambda x: sum(x**2)"
   ]
  },
  {
   "cell_type": "markdown",
   "metadata": {},
   "source": [
    "#### demonstrate objective functions"
   ]
  },
  {
   "cell_type": "code",
   "execution_count": 93,
   "metadata": {},
   "outputs": [
    {
     "name": "stdout",
     "output_type": "stream",
     "text": [
      "30\n",
      "30\n"
     ]
    }
   ],
   "source": [
    "print(ObjectiveFunction([1,2,3,4]))\n",
    "print(objectiveFunction(np.array([1,2,3,4])))"
   ]
  },
  {
   "cell_type": "code",
   "execution_count": 4,
   "metadata": {},
   "outputs": [],
   "source": [
    "def GeneratePopulation(bounds, numVars, popSize):\n",
    "    \"\"\"\n",
    "        initialize the population where each candidate solution is a vector \n",
    "        of length <numVars> whos value is a uniformly distributed random\n",
    "        number in range <bounds>\n",
    "    \"\"\"\n",
    "    population = []\n",
    "    # iterate through the population size\n",
    "    for i in range(0, popSize):\n",
    "        candidate = []\n",
    "        # iterate through the number of variables per candidate\n",
    "        for j in range(0, numVars):\n",
    "            # generate a random number within the bounds\n",
    "            candidate.append(random.uniform(bounds[j][0], bounds[j][1]))\n",
    "        population.append(candidate)\n",
    "    return population"
   ]
  },
  {
   "cell_type": "markdown",
   "metadata": {},
   "source": [
    "#### demonstrate GeneratePopulation"
   ]
  },
  {
   "cell_type": "code",
   "execution_count": 130,
   "metadata": {},
   "outputs": [
    {
     "data": {
      "text/plain": [
       "[[-2.8120181134382065, 25.94414285995579, 1.944089342325594],\n",
       " [9.747930370454469, 24.37128812802513, 1.7645791838718703],\n",
       " [8.150653108839833, 25.532830633865853, 0.5189086154466039],\n",
       " [-7.19070963296746, 24.647570443300864, 1.7369580410077832],\n",
       " [-9.028871391149938, 27.871870464845124, 0.8390320621524372]]"
      ]
     },
     "execution_count": 130,
     "metadata": {},
     "output_type": "execute_result"
    }
   ],
   "source": [
    "bounds = [(-10, 10), (20, 30), (0,3)]\n",
    "numVars = 3\n",
    "popSize = 5\n",
    "mutationFactor = .7\n",
    "test = GeneratePopulation(bounds, numVars, popSize)\n",
    "test"
   ]
  },
  {
   "cell_type": "code",
   "execution_count": 10,
   "metadata": {},
   "outputs": [],
   "source": [
    "def CheckBounds(candidate, bounds):\n",
    "    \"\"\"\n",
    "        after mutation, it is possible for a candidate variable to be outside\n",
    "        of the bounds. This returns the bound if the bound is violated\n",
    "    \"\"\"\n",
    "    for i in range(0, len(candidate)):\n",
    "        if candidate[i] < bounds[i][0]:\n",
    "            candidate[i] = bounds[i][0]\n",
    "        elif candidate[i] > bounds[i][1]:\n",
    "            candidate[i] = bounds[i][1]\n",
    "    "
   ]
  },
  {
   "cell_type": "markdown",
   "metadata": {},
   "source": [
    "#### demonstrate CheckBounds"
   ]
  },
  {
   "cell_type": "code",
   "execution_count": 131,
   "metadata": {},
   "outputs": [
    {
     "name": "stdout",
     "output_type": "stream",
     "text": [
      "25.94414285995579\n",
      "15\n",
      "20\n"
     ]
    }
   ],
   "source": [
    "print(test[0][1])\n",
    "test[0][1] = 15\n",
    "print(test[0][1])\n",
    "CheckBounds(test[0], bounds)\n",
    "print(test[0][1])"
   ]
  },
  {
   "cell_type": "code",
   "execution_count": 57,
   "metadata": {},
   "outputs": [],
   "source": [
    "def Mutate(population, popSize, bounds, mutationFactor, j):\n",
    "    \"\"\"\n",
    "        performs mutation using the formula\n",
    "        (x3 - x2) * mutation factor + x1\n",
    "    \"\"\"\n",
    "    # select 3 random vectors from the population\n",
    "    indices = list(range(0, popSize))\n",
    "    indices.remove(j)\n",
    "    \n",
    "    # randIdx is now a 1x3 vector of indices\n",
    "    randIdx = random.sample(indices, 3)\n",
    "\n",
    "    x1 = population[randIdx[0]]\n",
    "    x2 = population[randIdx[1]]\n",
    "    x3 = population[randIdx[2]]\n",
    "\n",
    "    # elementwise subtract (x2 - x3)\n",
    "    temp = [x2i - x3i for x2i,x3i in zip(x2,x3)]\n",
    "\n",
    "    # multiply (temp * mutationFactor) add to x1\n",
    "    mutated = [tempi * mutationFactor + x1i for x1i,tempi in zip(x1, temp)]\n",
    "    CheckBounds(mutated, bounds)\n",
    "    \n",
    "    return mutated"
   ]
  },
  {
   "cell_type": "markdown",
   "metadata": {},
   "source": [
    "#### demonstrate Mutate"
   ]
  },
  {
   "cell_type": "code",
   "execution_count": 142,
   "metadata": {},
   "outputs": [
    {
     "name": "stdout",
     "output_type": "stream",
     "text": [
      "[8.150653108839833, 25.532830633865853, 0.5189086154466039]\n",
      "[-1.525304882710472, 20, 2.572637527524336]\n"
     ]
    }
   ],
   "source": [
    "print(test[2])\n",
    "mutated = Mutate(test, popSize, bounds, mutationFactor, 2)\n",
    "print(mutated)"
   ]
  },
  {
   "cell_type": "code",
   "execution_count": 81,
   "metadata": {},
   "outputs": [],
   "source": [
    "def Crossover(target, mutated, crossoverRate):\n",
    "    \"\"\"\n",
    "        performs crossover between a target candidate and a mutated candidate\n",
    "        if a random sample is less than the crossover rate for each variable\n",
    "    \"\"\"\n",
    "    child = []\n",
    "    for k in range(0, len(target)):\n",
    "        if(random.random() <= crossoverRate):\n",
    "            child.append(mutated[k])\n",
    "        else:\n",
    "            child.append(target[k])\n",
    "    return child"
   ]
  },
  {
   "cell_type": "markdown",
   "metadata": {},
   "source": [
    "#### demonstrate Crossover"
   ]
  },
  {
   "cell_type": "code",
   "execution_count": 145,
   "metadata": {},
   "outputs": [
    {
     "data": {
      "text/plain": [
       "[-1.525304882710472, 20, 0.5189086154466039]"
      ]
     },
     "execution_count": 145,
     "metadata": {},
     "output_type": "execute_result"
    }
   ],
   "source": [
    "child = Crossover(test[2], mutated, .75)\n",
    "child"
   ]
  },
  {
   "cell_type": "code",
   "execution_count": 103,
   "metadata": {},
   "outputs": [],
   "source": [
    "def Selection(objectiveFunction, child, current):\n",
    "    \"\"\"\n",
    "        performs selection between two vectors\n",
    "    \"\"\"\n",
    "    childScore = objectiveFunction(child)\n",
    "    currentScore = objectiveFunction(current)\n",
    "    if (childScore < currentScore):\n",
    "        return child, childScore\n",
    "    else:\n",
    "        return current, currentScore"
   ]
  },
  {
   "cell_type": "markdown",
   "metadata": {},
   "source": [
    "#### demonstrate Selection"
   ]
  },
  {
   "cell_type": "code",
   "execution_count": 146,
   "metadata": {},
   "outputs": [
    {
     "name": "stdout",
     "output_type": "stream",
     "text": [
      "[8.150653108839833, 25.532830633865853, 0.5189086154466039]\n",
      "[-1.525304882710472, 20, 0.5189086154466039]\n",
      "402.5958211364051\n"
     ]
    }
   ],
   "source": [
    "print(test[2])\n",
    "test[2], score = Selection(ObjectiveFunction, child, test[2])\n",
    "print(test[2])\n",
    "print(score)"
   ]
  },
  {
   "cell_type": "code",
   "execution_count": null,
   "metadata": {},
   "outputs": [],
   "source": []
  },
  {
   "cell_type": "code",
   "execution_count": 156,
   "metadata": {},
   "outputs": [],
   "source": [
    "def DiffEvolv(objectiveFunction, bounds, numVars, popSize, mutationFactor, crossoverRate, numGenerations, verbose=False):\n",
    "    \"\"\"\n",
    "        the differential evolution algorithm\n",
    "    \"\"\"\n",
    "    # validate inputs\n",
    "    if(len(bounds) is not numVars):\n",
    "        print(\"ensure len(bounds) == numVars\")\n",
    "        return -1,-1\n",
    "    if(mutationFactor > 2 or mutationFactor < 0):\n",
    "        print(\"ensure mutationFactor is in range [0,2]\")\n",
    "        return -1,-1\n",
    "    if(crossoverRate > 1 or corssoverRate < 0):\n",
    "        print(\"ensure crossoverRate is in range [0,1]\")\n",
    "        return -1,-1\n",
    "    if(popSize < 10):\n",
    "        print(\"population size should be greater than 10\")\n",
    "        return -1,-1\n",
    "    \n",
    "    # create the initial population\n",
    "    population = GeneratePopulation(bounds, numVars, popSize)\n",
    "\n",
    "    # initialize the best candidate\n",
    "    bestCandidate = population[0]\n",
    "    \n",
    "    # iterate through each generation\n",
    "    for i in range(0, numGenerations):\n",
    "        if(verbose):\n",
    "            print(\"Generation: \", i)\n",
    "        \n",
    "        # initialize the scores for each generation\n",
    "        scores = []\n",
    "        \n",
    "        # iterate through each candidate in the population\n",
    "        for j in range(0, popSize):\n",
    "            current = population[j]\n",
    "            \n",
    "            # perform mutation\n",
    "            mutated = Mutate(population, popSize, bounds, mutationFactor, j)\n",
    "            \n",
    "            # perform crossover\n",
    "            child = Crossover(current, mutated, crossoverRate)\n",
    "            \n",
    "            # perform selection\n",
    "            population[j], score = Selection(objectiveFunction, child, current)\n",
    "            \n",
    "            # add to scores\n",
    "            scores.append(score)\n",
    "        \n",
    "        bestFitness = min(scores)\n",
    "        bestCandidate = population[scores.index(bestFitness)]\n",
    "        if(verbose):\n",
    "            print(\"current best: \" + str(bestCandidate) + \" with score: \" + str(bestFitness))\n",
    "    \n",
    "    return bestCandidate, bestFitness"
   ]
  },
  {
   "cell_type": "markdown",
   "metadata": {},
   "source": [
    "### Demonstrate entire algorithm"
   ]
  },
  {
   "cell_type": "code",
   "execution_count": 158,
   "metadata": {},
   "outputs": [],
   "source": [
    "bounds = [(-10, 10), (-10, 10), (-10,10)]\n",
    "numVars = 3\n",
    "popSize = 20\n",
    "mutationFactor = .4 # in range [0,2]\n",
    "crossoverRate = .7\n",
    "numGenerations = 100"
   ]
  },
  {
   "cell_type": "code",
   "execution_count": 159,
   "metadata": {},
   "outputs": [
    {
     "data": {
      "text/plain": [
       "[-1.3125858246766127e-09, -2.981703515534781e-10, -2.4746283614122103e-10]"
      ]
     },
     "execution_count": 159,
     "metadata": {},
     "output_type": "execute_result"
    }
   ],
   "source": [
    "solution, score = DiffEvolv(ObjectiveFunction, bounds, numVars, popSize, mutationFactor, crossoverRate, numGenerations)\n",
    "solution"
   ]
  },
  {
   "cell_type": "code",
   "execution_count": null,
   "metadata": {},
   "outputs": [],
   "source": []
  },
  {
   "cell_type": "code",
   "execution_count": 94,
   "metadata": {},
   "outputs": [],
   "source": []
  },
  {
   "cell_type": "code",
   "execution_count": null,
   "metadata": {},
   "outputs": [],
   "source": []
  }
 ],
 "metadata": {
  "kernelspec": {
   "display_name": "Python 3",
   "language": "python",
   "name": "python3"
  },
  "language_info": {
   "codemirror_mode": {
    "name": "ipython",
    "version": 3
   },
   "file_extension": ".py",
   "mimetype": "text/x-python",
   "name": "python",
   "nbconvert_exporter": "python",
   "pygments_lexer": "ipython3",
   "version": "3.6.8"
  }
 },
 "nbformat": 4,
 "nbformat_minor": 2
}
