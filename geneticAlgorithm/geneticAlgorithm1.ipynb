{
 "cells": [
  {
   "cell_type": "markdown",
   "metadata": {},
   "source": [
    "### Genetic Algorithm \n",
    "- uses energy efficiency dataset https://archive.ics.uci.edu/ml/datasets/energy+efficiency#\n"
   ]
  },
  {
   "cell_type": "markdown",
   "metadata": {},
   "source": [
    "We perform energy analysis using 12 different building shapes simulated in Ecotect. The buildings differ with respect to the glazing area, the glazing area distribution, and the orientation, amongst other parameters. We simulate various settings as functions of the afore-mentioned characteristics to obtain 768 building shapes. The dataset comprises 768 samples and 8 features, aiming to predict two real valued responses. It can also be used as a multi-class classification problem if the response is rounded to the nearest integer.\n",
    "\n",
    "\n",
    "Attribute Information:\n",
    "\n",
    "The dataset contains eight attributes (or features, denoted by X1...X8) and two responses (or outcomes, denoted by y1 and y2). The aim is to use the eight features to predict each of the two responses. \n",
    "\n",
    "Specifically: \n",
    "- X1\tRelative Compactness \n",
    "- X2\tSurface Area \n",
    "- X3\tWall Area \n",
    "- X4\tRoof Area \n",
    "- X5\tOverall Height \n",
    "- X6\tOrientation \n",
    "- X7\tGlazing Area \n",
    "- X8\tGlazing Area Distribution \n",
    "- y1\tHeating Load \n",
    "- y2\tCooling Load\n",
    "\n"
   ]
  },
  {
   "cell_type": "code",
   "execution_count": 24,
   "metadata": {},
   "outputs": [],
   "source": [
    "import numpy as np\n",
    "import pandas as pd\n",
    "import matplotlib.pyplot as plt\n",
    "import random\n",
    "from sklearn.model_selection import cross_validate\n",
    "from sklearn import preprocessing\n",
    "from sklearn import svm"
   ]
  },
  {
   "cell_type": "markdown",
   "metadata": {},
   "source": [
    "### Get the dataset\n",
    "- df.sample(frac=1) shuffles the data "
   ]
  },
  {
   "cell_type": "code",
   "execution_count": 25,
   "metadata": {},
   "outputs": [
    {
     "name": "stdout",
     "output_type": "stream",
     "text": [
      "768 10\n"
     ]
    },
    {
     "data": {
      "text/html": [
       "<div>\n",
       "<style scoped>\n",
       "    .dataframe tbody tr th:only-of-type {\n",
       "        vertical-align: middle;\n",
       "    }\n",
       "\n",
       "    .dataframe tbody tr th {\n",
       "        vertical-align: top;\n",
       "    }\n",
       "\n",
       "    .dataframe thead th {\n",
       "        text-align: right;\n",
       "    }\n",
       "</style>\n",
       "<table border=\"1\" class=\"dataframe\">\n",
       "  <thead>\n",
       "    <tr style=\"text-align: right;\">\n",
       "      <th></th>\n",
       "      <th>X1</th>\n",
       "      <th>X2</th>\n",
       "      <th>X3</th>\n",
       "      <th>X4</th>\n",
       "      <th>X5</th>\n",
       "      <th>X6</th>\n",
       "      <th>X7</th>\n",
       "      <th>X8</th>\n",
       "      <th>Y1</th>\n",
       "      <th>Y2</th>\n",
       "    </tr>\n",
       "  </thead>\n",
       "  <tbody>\n",
       "    <tr>\n",
       "      <th>450</th>\n",
       "      <td>0.79</td>\n",
       "      <td>637.0</td>\n",
       "      <td>343.0</td>\n",
       "      <td>147.0</td>\n",
       "      <td>7.0</td>\n",
       "      <td>4</td>\n",
       "      <td>0.25</td>\n",
       "      <td>4</td>\n",
       "      <td>38.33</td>\n",
       "      <td>44.16</td>\n",
       "    </tr>\n",
       "    <tr>\n",
       "      <th>458</th>\n",
       "      <td>0.74</td>\n",
       "      <td>686.0</td>\n",
       "      <td>245.0</td>\n",
       "      <td>220.5</td>\n",
       "      <td>3.5</td>\n",
       "      <td>4</td>\n",
       "      <td>0.25</td>\n",
       "      <td>4</td>\n",
       "      <td>12.18</td>\n",
       "      <td>15.03</td>\n",
       "    </tr>\n",
       "    <tr>\n",
       "      <th>115</th>\n",
       "      <td>0.79</td>\n",
       "      <td>637.0</td>\n",
       "      <td>343.0</td>\n",
       "      <td>147.0</td>\n",
       "      <td>7.0</td>\n",
       "      <td>5</td>\n",
       "      <td>0.10</td>\n",
       "      <td>2</td>\n",
       "      <td>36.03</td>\n",
       "      <td>42.86</td>\n",
       "    </tr>\n",
       "    <tr>\n",
       "      <th>109</th>\n",
       "      <td>0.82</td>\n",
       "      <td>612.5</td>\n",
       "      <td>318.5</td>\n",
       "      <td>147.0</td>\n",
       "      <td>7.0</td>\n",
       "      <td>3</td>\n",
       "      <td>0.10</td>\n",
       "      <td>2</td>\n",
       "      <td>24.23</td>\n",
       "      <td>25.02</td>\n",
       "    </tr>\n",
       "    <tr>\n",
       "      <th>248</th>\n",
       "      <td>0.86</td>\n",
       "      <td>588.0</td>\n",
       "      <td>294.0</td>\n",
       "      <td>147.0</td>\n",
       "      <td>7.0</td>\n",
       "      <td>2</td>\n",
       "      <td>0.10</td>\n",
       "      <td>5</td>\n",
       "      <td>27.03</td>\n",
       "      <td>25.82</td>\n",
       "    </tr>\n",
       "  </tbody>\n",
       "</table>\n",
       "</div>"
      ],
      "text/plain": [
       "       X1     X2     X3     X4   X5  X6    X7  X8     Y1     Y2\n",
       "450  0.79  637.0  343.0  147.0  7.0   4  0.25   4  38.33  44.16\n",
       "458  0.74  686.0  245.0  220.5  3.5   4  0.25   4  12.18  15.03\n",
       "115  0.79  637.0  343.0  147.0  7.0   5  0.10   2  36.03  42.86\n",
       "109  0.82  612.5  318.5  147.0  7.0   3  0.10   2  24.23  25.02\n",
       "248  0.86  588.0  294.0  147.0  7.0   2  0.10   5  27.03  25.82"
      ]
     },
     "execution_count": 25,
     "metadata": {},
     "output_type": "execute_result"
    }
   ],
   "source": [
    "df = pd.read_csv(\"energy_efficiency.csv\")\n",
    "df = df.sample(frac=1)\n",
    "rows = len(df)\n",
    "cols = len(df.keys())\n",
    "print(rows, cols)\n",
    "df.head()"
   ]
  },
  {
   "cell_type": "markdown",
   "metadata": {},
   "source": [
    "### X6 and X8 are categorical variables"
   ]
  },
  {
   "cell_type": "code",
   "execution_count": 26,
   "metadata": {},
   "outputs": [
    {
     "name": "stdout",
     "output_type": "stream",
     "text": [
      "[7.90e-01 6.37e+02 3.43e+02 1.47e+02 7.00e+00 2.50e-01 0.00e+00 0.00e+00\n",
      " 1.00e+00 0.00e+00 0.00e+00 0.00e+00 0.00e+00 0.00e+00 1.00e+00 0.00e+00]\n",
      "[38.33 44.16]\n"
     ]
    }
   ],
   "source": [
    "X = pd.get_dummies(df.iloc[:,0:(cols-2)], columns=['X6', 'X8']).values\n",
    "y = df.iloc[:, (cols-2):].values\n",
    "print(X[0])\n",
    "print(y[0])"
   ]
  },
  {
   "cell_type": "markdown",
   "metadata": {},
   "source": [
    "### Scale the data with minmax scaler"
   ]
  },
  {
   "cell_type": "code",
   "execution_count": 28,
   "metadata": {},
   "outputs": [],
   "source": [
    "mms = preprocessing.MinMaxScaler()\n",
    "X = mms.fit_transform(X)\n",
    "print(X[0])"
   ]
  },
  {
   "cell_type": "markdown",
   "metadata": {},
   "source": [
    "### Set genetic algorithm parameters\n",
    "- M : number of generations\n",
    "- N : population size\n",
    "- Pc: probability of crossover\n",
    "- Pm: probability of mutation\n",
    "- l : string size\n",
    "- k : tournament selection contestants\n",
    "\n",
    "### **since we are performing a GA for SVM, the parameters to tune are c and gamma**\n",
    "\n",
    "#### SVM hyperparameters\n",
    "- kernel: poly, rbf, linear\n",
    "- poly: degree of polynomial\n",
    "- c: controls the tradeoff between low error and maximizing the norm of the weight\n",
    "- gamma: determines strength of training sample with gaussian kernel"
   ]
  },
  {
   "cell_type": "code",
   "execution_count": 34,
   "metadata": {},
   "outputs": [],
   "source": [
    "Pc = .9 #these do not need to sum to 1\n",
    "Pm = .1\n",
    "M = 100\n",
    "N = 400\n",
    "l = 24 # first 12 are for c, second 12 are for gamma"
   ]
  },
  {
   "cell_type": "code",
   "execution_count": 35,
   "metadata": {},
   "outputs": [
    {
     "name": "stdout",
     "output_type": "stream",
     "text": [
      "[0 0 0 0 1 0 0 0 0 0 0 1 1 0 1 1 1 1 0 1 0 1 1 1]\n"
     ]
    }
   ],
   "source": [
    "# the chromosome\n",
    "xy = np.random.choice([0,1], size=(l,), p=[.5, .5])\n",
    "print(xy)"
   ]
  },
  {
   "cell_type": "markdown",
   "metadata": {},
   "source": [
    "### (1) Create a random population of chromosomes (potential solutions)"
   ]
  },
  {
   "cell_type": "code",
   "execution_count": 38,
   "metadata": {},
   "outputs": [],
   "source": [
    "population = np.empty((0, len(xy)))\n",
    "for i in range(N):\n",
    "    random.shuffle(xy)\n",
    "    population = np.vstack((population, xy))"
   ]
  },
  {
   "cell_type": "code",
   "execution_count": 39,
   "metadata": {},
   "outputs": [
    {
     "name": "stdout",
     "output_type": "stream",
     "text": [
      "[[1. 1. 0. 0. 1. 0. 1. 1. 0. 0. 1. 1. 1. 1. 1. 0. 0. 0. 0. 1. 0. 0. 0. 0.]\n",
      " [1. 0. 0. 0. 0. 1. 0. 0. 0. 1. 1. 1. 0. 1. 1. 0. 0. 0. 1. 1. 1. 0. 0. 1.]\n",
      " [0. 1. 1. 1. 0. 0. 1. 1. 0. 1. 1. 0. 0. 1. 0. 0. 1. 1. 0. 1. 0. 0. 0. 0.]\n",
      " [1. 0. 1. 0. 0. 0. 0. 1. 0. 0. 0. 1. 1. 0. 1. 1. 1. 1. 0. 1. 0. 0. 1. 0.]\n",
      " [0. 1. 0. 0. 0. 0. 1. 1. 1. 1. 1. 1. 0. 0. 1. 0. 0. 0. 0. 1. 1. 0. 0. 1.]]\n"
     ]
    }
   ],
   "source": [
    "print(population[0:5])"
   ]
  },
  {
   "cell_type": "markdown",
   "metadata": {},
   "source": [
    "### (2) Calculate precision of the chromosomes\n",
    "- Range (a,b)\n",
    "- length, l\n",
    "- precision (b-a)/(2^l-1)\n",
    "- encode (literal base 2 encoding)\n",
    "- decode (sum(bit*2^i)*precision + a"
   ]
  },
  {
   "cell_type": "code",
   "execution_count": 42,
   "metadata": {},
   "outputs": [],
   "source": [
    "# parameter c\n",
    "ac = 10\n",
    "bc = 1000\n",
    "lc = len(xy)/2\n",
    "pc = (bc - ac)/((2**lc)-1)"
   ]
  },
  {
   "cell_type": "code",
   "execution_count": 43,
   "metadata": {},
   "outputs": [],
   "source": [
    "# parameter gamma\n",
    "ag = .05\n",
    "bg = .99\n",
    "lg = len(xy)/2\n",
    "pg = (bg - ag)/((2**lg)-1)"
   ]
  },
  {
   "cell_type": "markdown",
   "metadata": {},
   "source": [
    "### Decode the chromosomes\n",
    "- returns a real value in the specified range for the parameter"
   ]
  },
  {
   "cell_type": "code",
   "execution_count": 55,
   "metadata": {},
   "outputs": [],
   "source": [
    "def decode(xy, index, precision, lowerBound):\n",
    "    \"\"\"Decodes a chromosome into a real value\"\"\"\n",
    "    index = index\n",
    "    power = 0 #binary powers\n",
    "    sum = 0\n",
    "    for i in range(len(xy)//2):\n",
    "        val = xy[index]*(2**power)\n",
    "        sum += val\n",
    "        index -= 1\n",
    "        power += 1\n",
    "    return (sum * precision) + lowerBound"
   ]
  },
  {
   "cell_type": "code",
   "execution_count": 57,
   "metadata": {},
   "outputs": [
    {
     "name": "stdout",
     "output_type": "stream",
     "text": [
      "883.2307692307693\n",
      "0.8311526251526251\n"
     ]
    }
   ],
   "source": [
    "cIndex = -1 # start at the end of the chromosome\n",
    "gIndex = (l//2) + 1 #start in the middle of the chromosome\n",
    "c1 = decode(xy, cIndex, pc, ac)\n",
    "g1 = decode(xy, gIndex, pg, ag)\n",
    "print(c1)\n",
    "print(g1)"
   ]
  },
  {
   "cell_type": "markdown",
   "metadata": {},
   "source": [
    "### Perform the algorithm"
   ]
  },
  {
   "cell_type": "markdown",
   "metadata": {},
   "source": [
    "- keep track of children and mutations "
   ]
  },
  {
   "cell_type": "code",
   "execution_count": null,
   "metadata": {},
   "outputs": [],
   "source": [
    "bestC = []\n",
    "worstC = []\n",
    "bestG = []\n",
    "worstC = []\n",
    "\n",
    "ofg = np.empty((0, len(xy)+2))\n",
    "ofgf = []\n",
    "\n",
    "mgm1 = np.empty((0, len(xy)+1))\n",
    "mgm2 = np.empty((0, len(xy)+1))\n",
    "\n",
    "mgm11 = np.empty((0, len(xy)+2))\n",
    "mgm22 = np.empty((0, len(xy)+2))\n",
    "\n",
    "mgm111 = np.empty((0, len(xy)+2))\n",
    "mgm222 = np.empty((0, len(xy)+2))\n"
   ]
  },
  {
   "cell_type": "code",
   "execution_count": 72,
   "metadata": {},
   "outputs": [
    {
     "name": "stdout",
     "output_type": "stream",
     "text": [
      "[[1. 1. 1. 0. 1. 0. 1. 1. 1. 1. 0. 0. 0. 0. 1. 0. 1. 0. 0. 0. 0. 1. 0. 0.]\n",
      " [0. 0. 1. 0. 0. 0. 1. 0. 0. 1. 1. 1. 1. 1. 0. 1. 0. 0. 1. 0. 1. 0. 1. 0.]\n",
      " [1. 0. 0. 1. 1. 0. 1. 0. 0. 0. 1. 1. 1. 1. 0. 0. 1. 1. 0. 1. 0. 0. 0. 0.]]\n",
      "[[1. 0. 1. 0. 0. 0. 0. 1. 0. 0. 0. 1. 1. 0. 1. 1. 1. 1. 0. 1. 0. 0. 1. 0.]\n",
      " [0. 0. 0. 0. 1. 1. 0. 0. 0. 1. 1. 0. 1. 1. 0. 1. 1. 1. 0. 1. 0. 0. 0. 1.]\n",
      " [0. 1. 1. 0. 1. 1. 1. 0. 1. 1. 0. 0. 0. 0. 1. 0. 1. 1. 1. 0. 0. 0. 0. 0.]]\n",
      "[[0. 0. 1. 0. 0. 1. 1. 1. 0. 1. 0. 1. 1. 0. 0. 0. 0. 0. 1. 1. 1. 0. 1. 0.]\n",
      " [0. 1. 0. 0. 1. 1. 1. 0. 0. 1. 0. 0. 1. 1. 0. 0. 1. 0. 0. 0. 1. 1. 0. 1.]\n",
      " [0. 0. 0. 0. 0. 0. 0. 0. 0. 1. 1. 1. 1. 0. 1. 1. 0. 1. 0. 1. 1. 0. 1. 1.]]\n",
      "[[1. 0. 1. 0. 0. 0. 0. 0. 1. 0. 0. 0. 1. 1. 1. 0. 0. 1. 1. 0. 1. 0. 1. 1.]\n",
      " [0. 1. 1. 0. 1. 1. 1. 0. 0. 1. 0. 1. 0. 0. 0. 0. 1. 0. 0. 1. 0. 1. 0. 1.]\n",
      " [1. 1. 1. 1. 0. 1. 0. 0. 0. 1. 1. 0. 0. 0. 0. 0. 0. 0. 1. 1. 0. 0. 1. 1.]]\n"
     ]
    }
   ],
   "source": [
    "gen = M\n",
    "pop = N\n",
    "for i in range(1):\n",
    "    newPopulation = np.empty((0, len(xy)))\n",
    "    \n",
    "    agc1 = np.empty((0, len(xy)+1))\n",
    "    acg2 = np.empty((0, len(xy)+1))\n",
    "    \n",
    "    mgc1 = []\n",
    "    mgc2 = []\n",
    "    \n",
    "    bestgc = np.empty((0, len(xy)+1))\n",
    "    fbgc = []\n",
    "    fwgc = []\n",
    "    \n",
    "    #print(\"generation: \", i)\n",
    "    \n",
    "    for j in range(1):\n",
    "        #print(\"family: \", j)\n",
    "        \n",
    "        #get 2 parents\n",
    "        parents = np.empty((0, len(xy)))\n",
    "        #get some random samples to pick good parents\n",
    "        moms = population[np.random.choice(len(population), 3, replace=False)]\n",
    "        dads = population[np.random.choice(len(population), 3, replace=False)]\n",
    "         \n",
    "            \n",
    "        \n",
    "        print(moms)\n",
    "        print(dads)\n",
    "        \n",
    "        "
   ]
  },
  {
   "cell_type": "code",
   "execution_count": null,
   "metadata": {},
   "outputs": [],
   "source": []
  },
  {
   "cell_type": "code",
   "execution_count": null,
   "metadata": {},
   "outputs": [],
   "source": []
  },
  {
   "cell_type": "code",
   "execution_count": null,
   "metadata": {},
   "outputs": [],
   "source": []
  },
  {
   "cell_type": "code",
   "execution_count": null,
   "metadata": {},
   "outputs": [],
   "source": []
  }
 ],
 "metadata": {
  "kernelspec": {
   "display_name": "Python 3",
   "language": "python",
   "name": "python3"
  },
  "language_info": {
   "codemirror_mode": {
    "name": "ipython",
    "version": 3
   },
   "file_extension": ".py",
   "mimetype": "text/x-python",
   "name": "python",
   "nbconvert_exporter": "python",
   "pygments_lexer": "ipython3",
   "version": "3.6.8"
  }
 },
 "nbformat": 4,
 "nbformat_minor": 2
}
