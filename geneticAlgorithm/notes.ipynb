{
 "cells": [
  {
   "cell_type": "code",
   "execution_count": null,
   "metadata": {},
   "outputs": [],
   "source": []
  },
  {
   "cell_type": "markdown",
   "metadata": {},
   "source": [
    "- uses a population of solutions in each iteration\n",
    "- evaluates each potential solution\n",
    "- randomly selects solutions to produce other solutions\n",
    "- breed, cross over, mutate, select, repeat"
   ]
  },
  {
   "cell_type": "markdown",
   "metadata": {},
   "source": [
    "- crossover - random points among two parents to cross genes and produce new children (solutions)"
   ]
  },
  {
   "cell_type": "markdown",
   "metadata": {},
   "source": [
    "- mutation - randomly flips a bit in a given solution"
   ]
  },
  {
   "cell_type": "markdown",
   "metadata": {},
   "source": [
    "- fitness value - objective function associated with solution optimality"
   ]
  },
  {
   "cell_type": "markdown",
   "metadata": {},
   "source": [
    "- elitism - the solution with the best fitness value carries on to the next generation without mutation and crossover"
   ]
  },
  {
   "cell_type": "markdown",
   "metadata": {},
   "source": [
    "## Defining chromosomes\n",
    "- Range (a,b)\n",
    "- length, l\n",
    "- precision (b-a)/(2^l-1)\n",
    "- encode (literal base 2 encoding)\n",
    "- decode (sum(bit*2^i)*precision + a"
   ]
  },
  {
   "cell_type": "markdown",
   "metadata": {},
   "source": [
    "## variables\n",
    "- M : number of generations\n",
    "- N : population size\n",
    "- Pc: probability of crossover\n",
    "- Pm: probability of mutation\n",
    "- l : string size\n",
    "- k : tournament selection contestants"
   ]
  },
  {
   "cell_type": "markdown",
   "metadata": {},
   "source": [
    "## Steps\n",
    "- set variables\n",
    "- create N population of randomly selected string size l\n",
    "- m = 1\n",
    "- select 2 parents via tournament selection\n",
    "- crossover the parents to get two children\n",
    "- mutate the children\n",
    "- calculate the fitness value of the children\n",
    "- repeat N/2 times\n",
    "- apply elitism\n",
    "- get a new generation\n",
    "- m = m+1\n",
    "- repeat M times\n",
    "- choose solution with best fitness"
   ]
  },
  {
   "cell_type": "code",
   "execution_count": null,
   "metadata": {},
   "outputs": [],
   "source": []
  },
  {
   "cell_type": "markdown",
   "metadata": {},
   "source": [
    "### SVM hyperparameters\n",
    "- kernel: poly, rbf, linear\n",
    "- poly: degree of polynomial\n",
    "- c: controls the tradeoff between low error and maximizing the norm of the weight\n",
    "- gamma: determines strength of training sample with gaussian kernel"
   ]
  },
  {
   "cell_type": "markdown",
   "metadata": {},
   "source": [
    "### ANN hyperparameters\n",
    "- number of hidden layers\n",
    "- number of hidden nodes\n",
    "- optimization method\n",
    "- learning rate\n",
    "- momentum (helps avoid local minimums)"
   ]
  },
  {
   "cell_type": "markdown",
   "metadata": {},
   "source": []
  }
 ],
 "metadata": {
  "kernelspec": {
   "display_name": "Python 3",
   "language": "python",
   "name": "python3"
  },
  "language_info": {
   "codemirror_mode": {
    "name": "ipython",
    "version": 3
   },
   "file_extension": ".py",
   "mimetype": "text/x-python",
   "name": "python",
   "nbconvert_exporter": "python",
   "pygments_lexer": "ipython3",
   "version": "3.6.8"
  }
 },
 "nbformat": 4,
 "nbformat_minor": 2
}
