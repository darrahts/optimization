{
 "cells": [
  {
   "cell_type": "markdown",
   "metadata": {},
   "source": [
    "### Genetic Algorithm \n",
    "- uses energy efficiency dataset https://archive.ics.uci.edu/ml/datasets/energy+efficiency#\n"
   ]
  },
  {
   "cell_type": "markdown",
   "metadata": {},
   "source": [
    "We perform energy analysis using 12 different building shapes simulated in Ecotect. The buildings differ with respect to the glazing area, the glazing area distribution, and the orientation, amongst other parameters. We simulate various settings as functions of the afore-mentioned characteristics to obtain 768 building shapes. The dataset comprises 768 samples and 8 features, aiming to predict two real valued responses. It can also be used as a multi-class classification problem if the response is rounded to the nearest integer.\n",
    "\n",
    "\n",
    "Attribute Information:\n",
    "\n",
    "The dataset contains eight attributes (or features, denoted by X1...X8) and two responses (or outcomes, denoted by y1 and y2). The aim is to use the eight features to predict each of the two responses. \n",
    "\n",
    "Specifically: \n",
    "- X1\tRelative Compactness \n",
    "- X2\tSurface Area \n",
    "- X3\tWall Area \n",
    "- X4\tRoof Area \n",
    "- X5\tOverall Height \n",
    "- X6\tOrientation \n",
    "- X7\tGlazing Area \n",
    "- X8\tGlazing Area Distribution \n",
    "- y1\tHeating Load \n",
    "- y2\tCooling Load\n",
    "\n"
   ]
  },
  {
   "cell_type": "code",
   "execution_count": 1,
   "metadata": {},
   "outputs": [
    {
     "name": "stderr",
     "output_type": "stream",
     "text": [
      "/home/tdarrah/anaconda3/envs/auto36/lib/python3.6/site-packages/sklearn/cross_validation.py:41: DeprecationWarning: This module was deprecated in version 0.18 in favor of the model_selection module into which all the refactored classes and functions are moved. Also note that the interface of the new CV iterators are different from that of this module. This module will be removed in 0.20.\n",
      "  \"This module will be removed in 0.20.\", DeprecationWarning)\n"
     ]
    }
   ],
   "source": [
    "import numpy as np\n",
    "import pandas as pd\n",
    "import matplotlib.pyplot as plt\n",
    "import random\n",
    "from sklearn.model_selection import train_test_split\n",
    "from sklearn import cross_validation\n",
    "from sklearn import preprocessing\n",
    "from sklearn.metrics import confusion_matrix\n",
    "from sklearn import svm"
   ]
  },
  {
   "cell_type": "markdown",
   "metadata": {},
   "source": [
    "### Get the dataset\n",
    "- df.sample(frac=1) shuffles the data "
   ]
  },
  {
   "cell_type": "code",
   "execution_count": 2,
   "metadata": {},
   "outputs": [
    {
     "name": "stdout",
     "output_type": "stream",
     "text": [
      "768 10\n"
     ]
    },
    {
     "data": {
      "text/html": [
       "<div>\n",
       "<style scoped>\n",
       "    .dataframe tbody tr th:only-of-type {\n",
       "        vertical-align: middle;\n",
       "    }\n",
       "\n",
       "    .dataframe tbody tr th {\n",
       "        vertical-align: top;\n",
       "    }\n",
       "\n",
       "    .dataframe thead th {\n",
       "        text-align: right;\n",
       "    }\n",
       "</style>\n",
       "<table border=\"1\" class=\"dataframe\">\n",
       "  <thead>\n",
       "    <tr style=\"text-align: right;\">\n",
       "      <th></th>\n",
       "      <th>X1</th>\n",
       "      <th>X2</th>\n",
       "      <th>X3</th>\n",
       "      <th>X4</th>\n",
       "      <th>X5</th>\n",
       "      <th>X6</th>\n",
       "      <th>X7</th>\n",
       "      <th>X8</th>\n",
       "      <th>Y1</th>\n",
       "      <th>Y2</th>\n",
       "    </tr>\n",
       "  </thead>\n",
       "  <tbody>\n",
       "    <tr>\n",
       "      <th>608</th>\n",
       "      <td>0.69</td>\n",
       "      <td>735.0</td>\n",
       "      <td>294.0</td>\n",
       "      <td>220.50</td>\n",
       "      <td>3.5</td>\n",
       "      <td>2</td>\n",
       "      <td>0.40</td>\n",
       "      <td>2</td>\n",
       "      <td>14.75</td>\n",
       "      <td>16.44</td>\n",
       "    </tr>\n",
       "    <tr>\n",
       "      <th>360</th>\n",
       "      <td>0.74</td>\n",
       "      <td>686.0</td>\n",
       "      <td>245.0</td>\n",
       "      <td>220.50</td>\n",
       "      <td>3.5</td>\n",
       "      <td>2</td>\n",
       "      <td>0.25</td>\n",
       "      <td>2</td>\n",
       "      <td>12.35</td>\n",
       "      <td>14.73</td>\n",
       "    </tr>\n",
       "    <tr>\n",
       "      <th>723</th>\n",
       "      <td>0.98</td>\n",
       "      <td>514.5</td>\n",
       "      <td>294.0</td>\n",
       "      <td>110.25</td>\n",
       "      <td>7.0</td>\n",
       "      <td>5</td>\n",
       "      <td>0.40</td>\n",
       "      <td>5</td>\n",
       "      <td>32.73</td>\n",
       "      <td>34.01</td>\n",
       "    </tr>\n",
       "    <tr>\n",
       "      <th>253</th>\n",
       "      <td>0.82</td>\n",
       "      <td>612.5</td>\n",
       "      <td>318.5</td>\n",
       "      <td>147.00</td>\n",
       "      <td>7.0</td>\n",
       "      <td>3</td>\n",
       "      <td>0.10</td>\n",
       "      <td>5</td>\n",
       "      <td>23.89</td>\n",
       "      <td>24.77</td>\n",
       "    </tr>\n",
       "    <tr>\n",
       "      <th>176</th>\n",
       "      <td>0.69</td>\n",
       "      <td>735.0</td>\n",
       "      <td>294.0</td>\n",
       "      <td>220.50</td>\n",
       "      <td>3.5</td>\n",
       "      <td>2</td>\n",
       "      <td>0.10</td>\n",
       "      <td>3</td>\n",
       "      <td>11.22</td>\n",
       "      <td>14.44</td>\n",
       "    </tr>\n",
       "  </tbody>\n",
       "</table>\n",
       "</div>"
      ],
      "text/plain": [
       "       X1     X2     X3      X4   X5  X6    X7  X8     Y1     Y2\n",
       "608  0.69  735.0  294.0  220.50  3.5   2  0.40   2  14.75  16.44\n",
       "360  0.74  686.0  245.0  220.50  3.5   2  0.25   2  12.35  14.73\n",
       "723  0.98  514.5  294.0  110.25  7.0   5  0.40   5  32.73  34.01\n",
       "253  0.82  612.5  318.5  147.00  7.0   3  0.10   5  23.89  24.77\n",
       "176  0.69  735.0  294.0  220.50  3.5   2  0.10   3  11.22  14.44"
      ]
     },
     "execution_count": 2,
     "metadata": {},
     "output_type": "execute_result"
    }
   ],
   "source": [
    "df = pd.read_csv(\"energy_efficiency.csv\")\n",
    "df = df.sample(frac=1)\n",
    "rows = len(df)\n",
    "cols = len(df.keys())\n",
    "print(rows, cols)\n",
    "df.head()"
   ]
  },
  {
   "cell_type": "markdown",
   "metadata": {},
   "source": [
    "### X6 and X8 are categorical variables"
   ]
  },
  {
   "cell_type": "code",
   "execution_count": 3,
   "metadata": {},
   "outputs": [
    {
     "name": "stdout",
     "output_type": "stream",
     "text": [
      "[6.900e-01 7.350e+02 2.940e+02 2.205e+02 3.500e+00 4.000e-01 1.000e+00\n",
      " 0.000e+00 0.000e+00 0.000e+00 0.000e+00 0.000e+00 1.000e+00 0.000e+00\n",
      " 0.000e+00 0.000e+00]\n",
      "[14.75]\n"
     ]
    }
   ],
   "source": [
    "X = pd.get_dummies(df.iloc[:,0:(cols-2)], columns=['X6', 'X8']).values\n",
    "y = df.iloc[:, (cols-2):(cols-1)].values\n",
    "print(X[0])\n",
    "print(y[0])"
   ]
  },
  {
   "cell_type": "markdown",
   "metadata": {},
   "source": [
    "### Scale the data with minmax scaler"
   ]
  },
  {
   "cell_type": "code",
   "execution_count": 4,
   "metadata": {},
   "outputs": [
    {
     "name": "stdout",
     "output_type": "stream",
     "text": [
      "[0.19444444 0.75       0.28571429 1.         0.         1.\n",
      " 1.         0.         0.         0.         0.         0.\n",
      " 1.         0.         0.         0.        ]\n"
     ]
    }
   ],
   "source": [
    "mms = preprocessing.MinMaxScaler()\n",
    "X = mms.fit_transform(X)\n",
    "print(X[0])"
   ]
  },
  {
   "cell_type": "markdown",
   "metadata": {},
   "source": [
    "### Set genetic algorithm parameters\n",
    "- M : number of generations\n",
    "- N : population size\n",
    "- Pc: probability of crossover\n",
    "- Pm: probability of mutation\n",
    "- l : string size\n",
    "- k : tournament selection contestants\n",
    "\n",
    "### **since we are performing a GA for SVM, the parameters to tune are c and gamma**\n",
    "\n",
    "#### SVM hyperparameters\n",
    "- kernel: poly, rbf, linear\n",
    "- poly: degree of polynomial\n",
    "- c: controls the tradeoff between low error and maximizing the norm of the weight\n",
    "- gamma: determines strength of training sample with gaussian kernel"
   ]
  },
  {
   "cell_type": "code",
   "execution_count": 83,
   "metadata": {},
   "outputs": [],
   "source": [
    "#probability of crossover\n",
    "Pc = .95 #these do not need to sum to 1\n",
    "#probability of mutation\n",
    "Pm = .12\n",
    "#size of population\n",
    "pop = 6\n",
    "#number of generations\n",
    "gen = 3\n",
    "l = 24 # first 12 are for c, second 12 are for gamma"
   ]
  },
  {
   "cell_type": "code",
   "execution_count": 6,
   "metadata": {},
   "outputs": [
    {
     "name": "stdout",
     "output_type": "stream",
     "text": [
      "[0 1 1 0 0 0 0 0 0 1 0 1 0 0 1 0 0 1 1 1 0 1 1 1]\n"
     ]
    }
   ],
   "source": [
    "# the chromosome\n",
    "xy = np.random.choice([0,1], size=(l,), p=[.5, .5])\n",
    "print(xy)"
   ]
  },
  {
   "cell_type": "markdown",
   "metadata": {},
   "source": [
    "### (1) Create a random population of chromosomes (potential solutions)"
   ]
  },
  {
   "cell_type": "code",
   "execution_count": 7,
   "metadata": {},
   "outputs": [],
   "source": [
    "population = np.empty((0, len(xy)))\n",
    "for i in range(gen):\n",
    "    random.shuffle(xy)\n",
    "    population = np.vstack((population, xy))"
   ]
  },
  {
   "cell_type": "code",
   "execution_count": 8,
   "metadata": {},
   "outputs": [
    {
     "name": "stdout",
     "output_type": "stream",
     "text": [
      "[[0. 1. 1. 1. 1. 1. 0. 0. 0. 1. 0. 0. 1. 0. 0. 0. 1. 0. 1. 1. 0. 0. 0. 1.]\n",
      " [1. 0. 0. 0. 1. 0. 0. 1. 1. 1. 1. 1. 0. 0. 1. 1. 0. 1. 0. 0. 0. 0. 0. 1.]\n",
      " [1. 0. 0. 0. 1. 1. 0. 1. 1. 0. 0. 0. 0. 1. 1. 1. 0. 0. 1. 0. 1. 0. 0. 1.]\n",
      " [0. 1. 0. 1. 0. 0. 1. 0. 0. 0. 0. 1. 1. 1. 0. 0. 0. 1. 1. 1. 0. 0. 1. 1.]\n",
      " [0. 0. 0. 0. 0. 1. 1. 0. 1. 0. 1. 1. 0. 0. 1. 1. 0. 1. 0. 1. 0. 0. 1. 1.]]\n"
     ]
    }
   ],
   "source": [
    "print(population[0:5])"
   ]
  },
  {
   "cell_type": "markdown",
   "metadata": {},
   "source": [
    "### (2) Calculate precision of the chromosomes\n",
    "- Range (a,b)\n",
    "- length, l\n",
    "- precision (b-a)/(2^l-1)\n",
    "- encode (literal base 2 encoding)\n",
    "- decode (sum(bit*2^i)*precision + a"
   ]
  },
  {
   "cell_type": "code",
   "execution_count": 9,
   "metadata": {},
   "outputs": [],
   "source": [
    "# parameter c, see precision formula\n",
    "ac = 10\n",
    "bc = 1000\n",
    "lc = len(xy)/2\n",
    "pc = (bc - ac)/((2**lc)-1)"
   ]
  },
  {
   "cell_type": "code",
   "execution_count": 10,
   "metadata": {},
   "outputs": [],
   "source": [
    "# parameter gamma, see precision formula\n",
    "ag = .05\n",
    "bg = .99\n",
    "lg = len(xy)/2\n",
    "pg = (bg - ag)/((2**lg)-1)"
   ]
  },
  {
   "cell_type": "markdown",
   "metadata": {},
   "source": [
    "### Decode the chromosomes\n",
    "- returns a real value in the specified range for the parameter"
   ]
  },
  {
   "cell_type": "code",
   "execution_count": 11,
   "metadata": {},
   "outputs": [],
   "source": [
    "def decode(xy, index, precision, lowerBound):\n",
    "    \"\"\"Decodes a chromosome into a real value\"\"\"\n",
    "    power = 0 #binary powers\n",
    "    sum = 0\n",
    "    for i in range(len(xy)//2):\n",
    "        val = xy[index]*(2**power)\n",
    "        sum += val\n",
    "        index -= 1\n",
    "        power += 1\n",
    "    return (sum * precision) + lowerBound"
   ]
  },
  {
   "cell_type": "code",
   "execution_count": 12,
   "metadata": {},
   "outputs": [
    {
     "name": "stdout",
     "output_type": "stream",
     "text": [
      "c bounds: (10,1000)\tcvalue: 215.73626373626374\n",
      "g bounds: (0.05,0.99)\tgvalue: 0.14824664224664225\n"
     ]
    }
   ],
   "source": [
    "#index of the start of the c parameter from SVM \n",
    "cIndex = -1 # start at the end of the chromosome\n",
    "#index of the start of the gamma parameter from SVM\n",
    "gIndex = (l//2) + 1 #start in the middle of the chromosome\n",
    "c1 = decode(xy, cIndex, pc, ac)\n",
    "g1 = decode(xy, gIndex, pg, ag)\n",
    "print(\"c bounds: ({},{})\\tcvalue: {}\".format(ac,bc,c1))\n",
    "print(\"g bounds: ({},{})\\tgvalue: {}\".format(ag,bg,g1))\n"
   ]
  },
  {
   "cell_type": "markdown",
   "metadata": {},
   "source": [
    "### Perform the algorithm"
   ]
  },
  {
   "cell_type": "markdown",
   "metadata": {},
   "source": [
    "- keep track of children and mutations "
   ]
  },
  {
   "cell_type": "code",
   "execution_count": 13,
   "metadata": {},
   "outputs": [],
   "source": [
    "def kfold(choice, num_folds):\n",
    "    c = decode(choice, cIndex, pc, ac)\n",
    "    g = decode(choice, gIndex, pg, ag)\n",
    "    total = 0\n",
    "    kf = cross_validation.KFold(len(X),n_folds=num_folds)\n",
    "\n",
    "    for train_index, test_index in kf:\n",
    "        X_train, X_test = X[train_index], X[test_index]\n",
    "        y_train, y_test = y[train_index], y[test_index]\n",
    "\n",
    "        model = svm.SVR(kernel='rbf',C=c, gamma=g)\n",
    "        model.fit(X_train, y_train)\n",
    "        acc = model.score(X_test, y_test)\n",
    "        err = 1-acc\n",
    "        total += err\n",
    "    #need the total error\n",
    "    total = total/num_folds\n",
    "    return total\n",
    "\n",
    "def parentSelection(population, l):\n",
    "    \"\"\"\n",
    "    returns two parents from a population given the chromosome size l\n",
    "    \"\"\"\n",
    "    parents = np.zeros((0, l))\n",
    "    for k in range(2):\n",
    "        #get some random samples to pick good parents\n",
    "        candidates = population[np.random.choice(len(population), 3, replace=False)]\n",
    "\n",
    "        #the best selection for a parent\n",
    "        selection = -1\n",
    "        score = 10000000\n",
    "\n",
    "        for choice in candidates:\n",
    "            #c and gamma values for SVR\n",
    "            total = kfold(choice, num_folds)\n",
    "            #print(total)\n",
    "            if (total < score):\n",
    "                score = total\n",
    "                selection = choice\n",
    "\n",
    "        #print(selection, score)\n",
    "        parents = np.vstack((parents, selection))\n",
    "    return parents\n",
    "\n",
    "def crossover(parents):\n",
    "    children = np.copy(parents)\n",
    "\n",
    "    #perform crossover where Pc is the probability that crossover takes place\n",
    "    if(np.random.rand() < Pc):\n",
    "        #get 2 random indicies for the crossover portion\n",
    "        indices = np.random.choice(l,2,replace=False)\n",
    "        #ensure first index is smaller than the second\n",
    "        if(indices[0] > indices[1]):\n",
    "            temp = indices[0]\n",
    "            indices[0] = indices[1]\n",
    "            indices[1] = temp\n",
    "        #print(indices)\n",
    "\n",
    "        children[0][indices[0]:indices[1]] = parents[1][indices[0]:indices[1]]\n",
    "        children[1][indices[0]:indices[1]] = parents[0][indices[0]:indices[1]]\n",
    "    return children\n",
    "\n",
    "def mutate(children):\n",
    "    for child in children:\n",
    "        for i in range(0, len(child)):\n",
    "            if(np.random.rand() < Pm):\n",
    "                #print(i)\n",
    "                if(child[i] == 0):\n",
    "                    child[i] = 1\n",
    "                else:\n",
    "                    child[i] = 0\n"
   ]
  },
  {
   "cell_type": "code",
   "execution_count": 132,
   "metadata": {},
   "outputs": [],
   "source": [
    "# bestC = []\n",
    "# worstC = []\n",
    "# bestG = []\n",
    "# worstG = []\n",
    "\n",
    "fittest = np.empty((0, len(xy)+2))\n",
    "ofgf = []\n",
    "\n",
    "min0 = np.empty((0, len(xy)+2))\n",
    "min1 = np.empty((0, len(xy)+2))\n",
    "\n",
    "# mgm00 = np.empty((0, len(xy)+2))\n",
    "# mgm11 = np.empty((0, len(xy)+2))\n",
    "\n",
    "# mgm000 = np.empty((0, len(xy)+2))\n",
    "# mgm111 = np.empty((0, len(xy)+2))"
   ]
  },
  {
   "cell_type": "code",
   "execution_count": 133,
   "metadata": {},
   "outputs": [
    {
     "name": "stdout",
     "output_type": "stream",
     "text": [
      "generation:  0\n",
      "fitness of child 0 in family 0 is 0.06493535111858544\n",
      "fitness of child 1 in family 0 is 0.0661776139122225\n",
      "[0.06493535]\n",
      "[0.06617761]\n",
      "fitness of child 0 in family 1 is 0.06371402931210786\n",
      "fitness of child 1 in family 1 is 0.09097046869885843\n",
      "[0.06371403]\n",
      "[0.06617761]\n",
      "fitness of child 0 in family 2 is 0.3076182674427406\n",
      "fitness of child 1 in family 2 is 0.06826214757496833\n",
      "[0.06371403]\n",
      "[0.06617761]\n",
      "[0.06371403]\n",
      "generation:  1\n",
      "fitness of child 0 in family 0 is 0.06508729598197709\n",
      "fitness of child 1 in family 0 is 0.11529584535923725\n",
      "[0.0650873]\n",
      "[0.11529585]\n",
      "fitness of child 0 in family 1 is 0.1746197336517711\n",
      "fitness of child 1 in family 1 is 0.20724053980667942\n",
      "[0.0650873]\n",
      "[0.11529585]\n",
      "fitness of child 0 in family 2 is 0.1490189619757036\n",
      "fitness of child 1 in family 2 is 0.08778699311115827\n",
      "[0.0650873]\n",
      "[0.08778699]\n",
      "[0.0650873]\n",
      "generation:  2\n",
      "fitness of child 0 in family 0 is 0.14336960383082042\n",
      "fitness of child 1 in family 0 is 0.08859824707849\n",
      "[0.1433696]\n",
      "[0.08859825]\n",
      "fitness of child 0 in family 1 is 0.06694431695244603\n",
      "fitness of child 1 in family 1 is 0.07580378255933888\n",
      "[0.06694432]\n",
      "[0.07580378]\n",
      "fitness of child 0 in family 2 is 0.2026785300321128\n",
      "fitness of child 1 in family 2 is 0.10214516906450051\n",
      "[0.06694432]\n",
      "[0.07580378]\n",
      "[0.06694432]\n",
      "ofg:  [[0.         0.06451945 0.         0.         0.         0.\n",
      "  0.         0.         1.         0.         0.         1.\n",
      "  1.         1.         1.         0.         1.         1.\n",
      "  1.         0.         0.         1.         1.         0.\n",
      "  0.         0.        ]\n",
      " [0.         0.06451945 1.         0.         0.         0.\n",
      "  0.         0.         1.         0.         0.         1.\n",
      "  1.         1.         1.         0.         1.         1.\n",
      "  1.         0.         0.         1.         1.         0.\n",
      "  0.         0.        ]\n",
      " [1.         0.0649939  1.         0.         0.         0.\n",
      "  0.         0.         1.         0.         0.         1.\n",
      "  1.         1.         1.         0.         1.         0.\n",
      "  1.         0.         0.         1.         1.         0.\n",
      "  0.         0.        ]\n",
      " [1.         0.06453168 1.         1.         0.         0.\n",
      "  0.         0.         1.         0.         0.         1.\n",
      "  1.         1.         1.         0.         1.         1.\n",
      "  1.         0.         0.         1.         0.         0.\n",
      "  0.         0.        ]\n",
      " [2.         0.06371209 1.         1.         0.         0.\n",
      "  0.         0.         1.         0.         0.         0.\n",
      "  1.         1.         1.         1.         1.         1.\n",
      "  1.         0.         0.         1.         0.         1.\n",
      "  0.         0.        ]\n",
      " [2.         0.06922735 0.         1.         0.         0.\n",
      "  0.         0.         0.         0.         0.         1.\n",
      "  1.         1.         1.         0.         1.         1.\n",
      "  1.         0.         0.         1.         0.         0.\n",
      "  0.         0.        ]\n",
      " [2.         0.06694432 1.         1.         0.         0.\n",
      "  0.         0.         0.         0.         1.         0.\n",
      "  0.         1.         1.         1.         1.         1.\n",
      "  1.         0.         0.         1.         1.         1.\n",
      "  0.         0.        ]\n",
      " [2.         0.07580378 1.         0.         0.         0.\n",
      "  1.         0.         0.         1.         0.         0.\n",
      "  1.         1.         1.         1.         1.         1.\n",
      "  1.         0.         0.         1.         1.         1.\n",
      "  1.         0.        ]]\n",
      "[0.06371209]\n",
      "Min for all generations:  [2.         0.06371209 1.         1.         0.         0.\n",
      " 0.         0.         1.         0.         0.         0.\n",
      " 1.         1.         1.         1.         1.         1.\n",
      " 1.         0.         0.         1.         0.         1.\n",
      " 0.         0.        ]\n"
     ]
    }
   ],
   "source": [
    "#index of the start of the c parameter from SVM \n",
    "cIndex = -1 # start at the end of the chromosome\n",
    "#index of the start of the gamma parameter from SVM\n",
    "gIndex = (l//2) + 1 #start in the middle of the chromosome\n",
    "\n",
    "for k in range(gen):\n",
    "    print(\"generation: \", k)\n",
    "    \n",
    "    newPopulation = np.empty((0, len(xy)))\n",
    "    \n",
    "    agc0 = np.empty((0, len(xy)+1))\n",
    "    agc1 = np.empty((0, len(xy)+1))\n",
    "    \n",
    "    mgc0 = []\n",
    "    mgc1 = []\n",
    "    \n",
    "    bestgc = np.empty((0, len(xy)+1))\n",
    "    fbgc = []\n",
    "    fwgc = []\n",
    "    \n",
    "    num_folds = 3\n",
    "    \n",
    "    \n",
    "    for j in range(pop//2): #pop//2\n",
    "        #print(\"family: \", j)\n",
    "        \n",
    "        parents = parentSelection(population, l)\n",
    "        children = crossover(parents)\n",
    "        mutate(children)\n",
    "        fitness = []\n",
    "        for child in children:\n",
    "            fitness.append(kfold(child, num_folds))\n",
    "        print(\"fitness of child 0 in family {} is {}\".format(j, fitness[0]))\n",
    "        print(\"fitness of child 1 in family {} is {}\".format(j, fitness[1]))\n",
    "        \n",
    "        temp0 = np.hstack((fitness[0], children[0]))\n",
    "        temp1 = np.hstack((fitness[1], children[1]))\n",
    "\n",
    "        agc0 = np.vstack((agc0, temp0))\n",
    "        agc1 = np.vstack((agc1, temp1))\n",
    "        bestgc = np.vstack((agc0,agc1))  \n",
    "        \n",
    "        #create a new population\n",
    "        newPopulation = np.vstack((newPopulation, children[0], children[1]))\n",
    "        \n",
    "        #keep up with our best chromosomes\n",
    "        best = min(agc0[:,0:1])\n",
    "        print(best)\n",
    "        for i in range(0, len(agc0)):\n",
    "            test = agc0[i]\n",
    "            if(test[0:1] == best):\n",
    "                mgc0 = agc0[i,:]\n",
    "                \n",
    "        best = min(agc1[:,0:1])\n",
    "        print(best)\n",
    "        for i in range(0, len(agc1)):\n",
    "            test = agc1[i]\n",
    "            if(test[0:1] == best):\n",
    "                mgc1 = agc1[i,:]\n",
    "                \n",
    "                \n",
    "    #apply elitism / survival of the fittest (worst child is replaced with best child)\n",
    "    best = min(bestgc[:,0:1])\n",
    "    print(best)\n",
    "    for i in range(0, len(bestgc)):\n",
    "        test = bestgc[i]\n",
    "        if(test[0:1] == best):\n",
    "            fbgc = bestgc[i,:]\n",
    "\n",
    "    worst = max(bestgc[:,0:1])\n",
    "    for i in range(0, len(bestgc)):\n",
    "        test = bestgc[i]\n",
    "        if(test[0:1] == worst):\n",
    "            fwgc = bestgc[i,:]\n",
    "            \n",
    "    #print(\"fbgc: \", fbgc)\n",
    "    #print(\"fwgc: \", fwgc)\n",
    "    \n",
    "    for i in range(0, len(newPopulation)):\n",
    "        if(np.array_equal(newPopulation[i], fwgc[1:])):\n",
    "            newPopulation[i] = fbgc[1:]\n",
    "\n",
    "    population = newPopulation\n",
    "    print(\"pop len: \", len(population))\n",
    "\n",
    "    min0 = np.insert(mgc0, 0, k)\n",
    "    min1 = np.insert(mgc1, 0, k)\n",
    "    \n",
    "    #mgm0 = np.vstack((mgm0, mgc0))\n",
    "    #mgm1 = np.vstack((mgm1, mgc1))\n",
    "    fittest = np.vstack((ofg, min0, min1))\n",
    "    #print(\"mgm0: \", mgm0)\n",
    "    #print(\"mgm1: \", mgm1)\n",
    "\n",
    "#ofg = np.vstack((mgm0, mgm1))\n",
    "print(\"ofg: \", fittest)\n",
    "best = min(fittest[:,1:2])\n",
    "print(best)\n",
    "for i in range(0, len(fittest)):\n",
    "    test = fittest[i]\n",
    "    #print(test)\n",
    "    if(test[1:2] == best):\n",
    "        ofgf = fittest[i,:]\n",
    "print(\"Min for all generations: \", ofgf)"
   ]
  },
  {
   "cell_type": "code",
   "execution_count": 129,
   "metadata": {},
   "outputs": [
    {
     "name": "stdout",
     "output_type": "stream",
     "text": [
      "[[1. 0. 0. 0. 0. 0. 1. 0. 0. 1. 1. 1. 1. 0. 1. 1. 1. 1. 0. 1. 1. 0. 0. 0.]\n",
      " [1. 0. 0. 0. 0. 0. 1. 0. 0. 1. 1. 0. 1. 0. 1. 1. 1. 1. 1. 1. 1. 1. 0. 0.]\n",
      " [1. 0. 0. 0. 1. 0. 0. 0. 1. 0. 1. 0. 1. 1. 0. 1. 1. 0. 0. 1. 1. 1. 1. 0.]\n",
      " [1. 0. 0. 0. 0. 0. 0. 0. 1. 1. 1. 1. 1. 1. 1. 1. 1. 1. 0. 1. 1. 1. 0. 1.]\n",
      " [1. 0. 0. 0. 0. 0. 1. 1. 1. 1. 1. 1. 0. 1. 1. 0. 1. 1. 0. 1. 1. 1. 0. 0.]\n",
      " [1. 0. 0. 0. 0. 0. 1. 0. 0. 1. 1. 1. 1. 0. 1. 1. 1. 1. 0. 1. 1. 0. 0. 0.]]\n"
     ]
    }
   ],
   "source": [
    "print(population)"
   ]
  },
  {
   "cell_type": "code",
   "execution_count": 118,
   "metadata": {},
   "outputs": [
    {
     "name": "stdout",
     "output_type": "stream",
     "text": [
      "final solution:  [1. 1. 0. 0. 0. 0. 1. 0. 1. 0. 0. 1. 1. 1. 1. 0. 0. 0. 0. 1. 0. 1. 1. 1.]\n",
      "best accuracy:  [0.93594746]\n"
     ]
    }
   ],
   "source": [
    "print(\"final solution: \", ofgf[2:])\n",
    "print(\"best accuracy: \", (1-ofgf[1:2]))"
   ]
  },
  {
   "cell_type": "code",
   "execution_count": 119,
   "metadata": {},
   "outputs": [
    {
     "name": "stdout",
     "output_type": "stream",
     "text": [
      "882.021978021978 0.08833455433455434\n"
     ]
    }
   ],
   "source": [
    "c = decode(ofgf[2:], cIndex, pc, ac)\n",
    "g = decode(ofgf[2:], gIndex, pg, ag)\n",
    "print(c,g)"
   ]
  },
  {
   "cell_type": "code",
   "execution_count": 120,
   "metadata": {},
   "outputs": [
    {
     "name": "stdout",
     "output_type": "stream",
     "text": [
      "0.9397641910141139\n"
     ]
    }
   ],
   "source": [
    "X_train, X_test, y_train, y_test = train_test_split(X, y, test_size=.25)\n",
    "\n",
    "model = svm.SVR(kernel=\"rbf\", C=c, gamma=g)\n",
    "model.fit(X_train, y_train)\n",
    "y_pred = model.predict(X_test)\n",
    "acc = model.score(X_test, y_test)\n",
    "\n",
    "print(acc)"
   ]
  },
  {
   "cell_type": "code",
   "execution_count": null,
   "metadata": {},
   "outputs": [],
   "source": []
  },
  {
   "cell_type": "code",
   "execution_count": null,
   "metadata": {},
   "outputs": [],
   "source": []
  }
 ],
 "metadata": {
  "kernelspec": {
   "display_name": "Python 3",
   "language": "python",
   "name": "python3"
  },
  "language_info": {
   "codemirror_mode": {
    "name": "ipython",
    "version": 3
   },
   "file_extension": ".py",
   "mimetype": "text/x-python",
   "name": "python",
   "nbconvert_exporter": "python",
   "pygments_lexer": "ipython3",
   "version": "3.6.8"
  }
 },
 "nbformat": 4,
 "nbformat_minor": 2
}
