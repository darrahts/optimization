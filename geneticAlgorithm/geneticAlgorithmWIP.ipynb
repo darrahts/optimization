{
 "cells": [
  {
   "cell_type": "markdown",
   "metadata": {},
   "source": [
    "### Genetic Algorithm \n",
    "- uses energy efficiency dataset https://archive.ics.uci.edu/ml/datasets/energy+efficiency#\n"
   ]
  },
  {
   "cell_type": "markdown",
   "metadata": {},
   "source": [
    "We perform energy analysis using 12 different building shapes simulated in Ecotect. The buildings differ with respect to the glazing area, the glazing area distribution, and the orientation, amongst other parameters. We simulate various settings as functions of the afore-mentioned characteristics to obtain 768 building shapes. The dataset comprises 768 samples and 8 features, aiming to predict two real valued responses. It can also be used as a multi-class classification problem if the response is rounded to the nearest integer.\n",
    "\n",
    "\n",
    "Attribute Information:\n",
    "\n",
    "The dataset contains eight attributes (or features, denoted by X1...X8) and two responses (or outcomes, denoted by y1 and y2). The aim is to use the eight features to predict each of the two responses. \n",
    "\n",
    "Specifically: \n",
    "- X1\tRelative Compactness \n",
    "- X2\tSurface Area \n",
    "- X3\tWall Area \n",
    "- X4\tRoof Area \n",
    "- X5\tOverall Height \n",
    "- X6\tOrientation \n",
    "- X7\tGlazing Area \n",
    "- X8\tGlazing Area Distribution \n",
    "- y1\tHeating Load \n",
    "- y2\tCooling Load\n",
    "\n"
   ]
  },
  {
   "cell_type": "code",
   "execution_count": 1,
   "metadata": {},
   "outputs": [
    {
     "name": "stderr",
     "output_type": "stream",
     "text": [
      "/home/tdarrah/anaconda3/envs/auto36/lib/python3.6/site-packages/sklearn/cross_validation.py:41: DeprecationWarning: This module was deprecated in version 0.18 in favor of the model_selection module into which all the refactored classes and functions are moved. Also note that the interface of the new CV iterators are different from that of this module. This module will be removed in 0.20.\n",
      "  \"This module will be removed in 0.20.\", DeprecationWarning)\n"
     ]
    }
   ],
   "source": [
    "import numpy as np\n",
    "import pandas as pd\n",
    "import matplotlib.pyplot as plt\n",
    "import random\n",
    "from sklearn.model_selection import train_test_split\n",
    "from sklearn import cross_validation\n",
    "from sklearn import preprocessing\n",
    "from sklearn.metrics import confusion_matrix\n",
    "from sklearn import svm"
   ]
  },
  {
   "cell_type": "markdown",
   "metadata": {},
   "source": [
    "### Get the dataset\n",
    "- df.sample(frac=1) shuffles the data "
   ]
  },
  {
   "cell_type": "code",
   "execution_count": 2,
   "metadata": {},
   "outputs": [
    {
     "name": "stdout",
     "output_type": "stream",
     "text": [
      "768 10\n"
     ]
    },
    {
     "data": {
      "text/html": [
       "<div>\n",
       "<style scoped>\n",
       "    .dataframe tbody tr th:only-of-type {\n",
       "        vertical-align: middle;\n",
       "    }\n",
       "\n",
       "    .dataframe tbody tr th {\n",
       "        vertical-align: top;\n",
       "    }\n",
       "\n",
       "    .dataframe thead th {\n",
       "        text-align: right;\n",
       "    }\n",
       "</style>\n",
       "<table border=\"1\" class=\"dataframe\">\n",
       "  <thead>\n",
       "    <tr style=\"text-align: right;\">\n",
       "      <th></th>\n",
       "      <th>X1</th>\n",
       "      <th>X2</th>\n",
       "      <th>X3</th>\n",
       "      <th>X4</th>\n",
       "      <th>X5</th>\n",
       "      <th>X6</th>\n",
       "      <th>X7</th>\n",
       "      <th>X8</th>\n",
       "      <th>Y1</th>\n",
       "      <th>Y2</th>\n",
       "    </tr>\n",
       "  </thead>\n",
       "  <tbody>\n",
       "    <tr>\n",
       "      <th>705</th>\n",
       "      <td>0.69</td>\n",
       "      <td>735.0</td>\n",
       "      <td>294.0</td>\n",
       "      <td>220.5</td>\n",
       "      <td>3.5</td>\n",
       "      <td>3</td>\n",
       "      <td>0.40</td>\n",
       "      <td>4</td>\n",
       "      <td>14.62</td>\n",
       "      <td>16.88</td>\n",
       "    </tr>\n",
       "    <tr>\n",
       "      <th>742</th>\n",
       "      <td>0.76</td>\n",
       "      <td>661.5</td>\n",
       "      <td>416.5</td>\n",
       "      <td>122.5</td>\n",
       "      <td>7.0</td>\n",
       "      <td>4</td>\n",
       "      <td>0.40</td>\n",
       "      <td>5</td>\n",
       "      <td>39.31</td>\n",
       "      <td>37.79</td>\n",
       "    </tr>\n",
       "    <tr>\n",
       "      <th>182</th>\n",
       "      <td>0.66</td>\n",
       "      <td>759.5</td>\n",
       "      <td>318.5</td>\n",
       "      <td>220.5</td>\n",
       "      <td>3.5</td>\n",
       "      <td>4</td>\n",
       "      <td>0.10</td>\n",
       "      <td>3</td>\n",
       "      <td>11.53</td>\n",
       "      <td>13.59</td>\n",
       "    </tr>\n",
       "    <tr>\n",
       "      <th>188</th>\n",
       "      <td>0.62</td>\n",
       "      <td>808.5</td>\n",
       "      <td>367.5</td>\n",
       "      <td>220.5</td>\n",
       "      <td>3.5</td>\n",
       "      <td>2</td>\n",
       "      <td>0.10</td>\n",
       "      <td>3</td>\n",
       "      <td>12.68</td>\n",
       "      <td>14.09</td>\n",
       "    </tr>\n",
       "    <tr>\n",
       "      <th>522</th>\n",
       "      <td>0.64</td>\n",
       "      <td>784.0</td>\n",
       "      <td>343.0</td>\n",
       "      <td>220.5</td>\n",
       "      <td>3.5</td>\n",
       "      <td>4</td>\n",
       "      <td>0.25</td>\n",
       "      <td>5</td>\n",
       "      <td>16.76</td>\n",
       "      <td>20.19</td>\n",
       "    </tr>\n",
       "  </tbody>\n",
       "</table>\n",
       "</div>"
      ],
      "text/plain": [
       "       X1     X2     X3     X4   X5  X6    X7  X8     Y1     Y2\n",
       "705  0.69  735.0  294.0  220.5  3.5   3  0.40   4  14.62  16.88\n",
       "742  0.76  661.5  416.5  122.5  7.0   4  0.40   5  39.31  37.79\n",
       "182  0.66  759.5  318.5  220.5  3.5   4  0.10   3  11.53  13.59\n",
       "188  0.62  808.5  367.5  220.5  3.5   2  0.10   3  12.68  14.09\n",
       "522  0.64  784.0  343.0  220.5  3.5   4  0.25   5  16.76  20.19"
      ]
     },
     "execution_count": 2,
     "metadata": {},
     "output_type": "execute_result"
    }
   ],
   "source": [
    "df = pd.read_csv(\"energy_efficiency.csv\")\n",
    "df = df.sample(frac=1)\n",
    "rows = len(df)\n",
    "cols = len(df.keys())\n",
    "print(rows, cols)\n",
    "df.head()"
   ]
  },
  {
   "cell_type": "markdown",
   "metadata": {},
   "source": [
    "### X6 and X8 are categorical variables"
   ]
  },
  {
   "cell_type": "code",
   "execution_count": 3,
   "metadata": {},
   "outputs": [
    {
     "name": "stdout",
     "output_type": "stream",
     "text": [
      "[6.900e-01 7.350e+02 2.940e+02 2.205e+02 3.500e+00 4.000e-01 0.000e+00\n",
      " 1.000e+00 0.000e+00 0.000e+00 0.000e+00 0.000e+00 0.000e+00 0.000e+00\n",
      " 1.000e+00 0.000e+00]\n",
      "[14.62]\n"
     ]
    }
   ],
   "source": [
    "X = pd.get_dummies(df.iloc[:,0:(cols-2)], columns=['X6', 'X8']).values\n",
    "y = df.iloc[:, (cols-2):(cols-1)].values\n",
    "print(X[0])\n",
    "print(y[0])"
   ]
  },
  {
   "cell_type": "markdown",
   "metadata": {},
   "source": [
    "### Scale the data with minmax scaler"
   ]
  },
  {
   "cell_type": "code",
   "execution_count": 4,
   "metadata": {},
   "outputs": [
    {
     "name": "stdout",
     "output_type": "stream",
     "text": [
      "[0.19444444 0.75       0.28571429 1.         0.         1.\n",
      " 0.         1.         0.         0.         0.         0.\n",
      " 0.         0.         1.         0.        ]\n"
     ]
    }
   ],
   "source": [
    "mms = preprocessing.MinMaxScaler()\n",
    "X = mms.fit_transform(X)\n",
    "print(X[0])"
   ]
  },
  {
   "cell_type": "markdown",
   "metadata": {},
   "source": [
    "### Set genetic algorithm parameters\n",
    "- M : number of generations\n",
    "- N : population size\n",
    "- Pc: probability of crossover\n",
    "- Pm: probability of mutation\n",
    "- l : string size\n",
    "- k : tournament selection contestants\n",
    "\n",
    "### **since we are performing a GA for SVM, the parameters to tune are c and gamma**\n",
    "\n",
    "#### SVM hyperparameters\n",
    "- kernel: poly, rbf, linear\n",
    "- poly: degree of polynomial\n",
    "- c: controls the tradeoff between low error and maximizing the norm of the weight\n",
    "- gamma: determines strength of training sample with gaussian kernel"
   ]
  },
  {
   "cell_type": "code",
   "execution_count": 5,
   "metadata": {},
   "outputs": [],
   "source": [
    "#probability of crossover\n",
    "Pc = .95 #these do not need to sum to 1\n",
    "#probability of mutation\n",
    "Pm = .12\n",
    "#size of population\n",
    "pop = 12\n",
    "#number of generations\n",
    "gen = 24\n",
    "l = 24 # first 12 are for c, second 12 are for gamma"
   ]
  },
  {
   "cell_type": "code",
   "execution_count": 6,
   "metadata": {},
   "outputs": [
    {
     "name": "stdout",
     "output_type": "stream",
     "text": [
      "[1 0 1 1 0 1 0 0 0 0 0 1 0 1 0 0 1 1 1 0 1 0 1 1]\n"
     ]
    }
   ],
   "source": [
    "# the chromosome\n",
    "xy = np.random.choice([0,1], size=(l,), p=[.5, .5])\n",
    "print(xy)"
   ]
  },
  {
   "cell_type": "markdown",
   "metadata": {},
   "source": [
    "### Create a random population of chromosomes (potential solutions)"
   ]
  },
  {
   "cell_type": "code",
   "execution_count": 7,
   "metadata": {},
   "outputs": [],
   "source": [
    "population = np.empty((0, len(xy)))\n",
    "for i in range(gen):\n",
    "    random.shuffle(xy)\n",
    "    population = np.vstack((population, xy))"
   ]
  },
  {
   "cell_type": "code",
   "execution_count": 8,
   "metadata": {},
   "outputs": [
    {
     "name": "stdout",
     "output_type": "stream",
     "text": [
      "[[0. 1. 1. 0. 0. 0. 1. 1. 0. 0. 1. 0. 1. 1. 0. 1. 1. 0. 0. 0. 1. 1. 0. 1.]\n",
      " [1. 0. 1. 0. 0. 1. 0. 1. 0. 1. 1. 0. 0. 1. 1. 0. 0. 0. 0. 1. 1. 1. 0. 1.]\n",
      " [0. 1. 0. 0. 1. 1. 1. 1. 0. 0. 1. 1. 1. 0. 0. 1. 0. 0. 1. 1. 0. 0. 0. 1.]\n",
      " [0. 0. 0. 0. 1. 0. 0. 1. 1. 1. 1. 1. 1. 0. 0. 0. 1. 1. 0. 1. 0. 1. 0. 1.]\n",
      " [1. 0. 0. 1. 0. 1. 1. 0. 0. 1. 1. 0. 1. 0. 1. 1. 0. 0. 1. 0. 1. 0. 0. 1.]]\n"
     ]
    }
   ],
   "source": [
    "print(population[0:5])"
   ]
  },
  {
   "cell_type": "markdown",
   "metadata": {},
   "source": [
    "### Calculate precision of the chromosomes\n",
    "- Range (a,b)\n",
    "- length, l\n",
    "- precision (b-a)/(2^l-1)\n",
    "- encode (literal base 2 encoding)\n",
    "- decode (sum(bit*2^i)*precision + a"
   ]
  },
  {
   "cell_type": "code",
   "execution_count": 9,
   "metadata": {},
   "outputs": [],
   "source": [
    "# parameter c, see precision formula\n",
    "ac = 10\n",
    "bc = 1000\n",
    "lc = len(xy)/2\n",
    "pc = (bc - ac)/((2**lc)-1)"
   ]
  },
  {
   "cell_type": "code",
   "execution_count": 10,
   "metadata": {},
   "outputs": [],
   "source": [
    "# parameter gamma, see precision formula\n",
    "ag = .05\n",
    "bg = .99\n",
    "lg = len(xy)/2\n",
    "pg = (bg - ag)/((2**lg)-1)"
   ]
  },
  {
   "cell_type": "markdown",
   "metadata": {},
   "source": [
    "### Functions"
   ]
  },
  {
   "cell_type": "code",
   "execution_count": 11,
   "metadata": {},
   "outputs": [],
   "source": [
    "def decode(xy, index, precision, lowerBound):\n",
    "    \"\"\"Decodes a chromosome into a real value\"\"\"\n",
    "    power = 0 #binary powers\n",
    "    sum = 0\n",
    "    for i in range(len(xy)//2):\n",
    "        val = xy[index]*(2**power)\n",
    "        sum += val\n",
    "        index -= 1\n",
    "        power += 1\n",
    "    return (sum * precision) + lowerBound\n",
    "\n",
    "def kfold(choice, num_folds):\n",
    "    c = decode(choice, cIndex, pc, ac)\n",
    "    g = decode(choice, gIndex, pg, ag)\n",
    "    total = 0\n",
    "    kf = cross_validation.KFold(len(X),n_folds=num_folds)\n",
    "\n",
    "    for train_index, test_index in kf:\n",
    "        X_train, X_test = X[train_index], X[test_index]\n",
    "        y_train, y_test = y[train_index], y[test_index]\n",
    "\n",
    "        model = svm.SVR(kernel='rbf',C=c, gamma=g)\n",
    "        model.fit(X_train, y_train)\n",
    "        acc = model.score(X_test, y_test)\n",
    "        err = 1-acc\n",
    "        total += err\n",
    "    #need the total error\n",
    "    total = total/num_folds\n",
    "    return total\n",
    "\n",
    "def parentSelection(population, l):\n",
    "    \"\"\"\n",
    "    returns two parents from a population given the chromosome size l\n",
    "    \"\"\"\n",
    "    parents = np.zeros((0, l))\n",
    "    for k in range(2):\n",
    "        #get some random samples to pick good parents\n",
    "        candidates = population[np.random.choice(len(population), 3, replace=False)]\n",
    "\n",
    "        #the best selection for a parent\n",
    "        selection = -1\n",
    "        score = 10000000\n",
    "\n",
    "        for choice in candidates:\n",
    "            #c and gamma values for SVR\n",
    "            total = kfold(choice, num_folds)\n",
    "            #print(total)\n",
    "            if (total < score):\n",
    "                score = total\n",
    "                selection = choice\n",
    "\n",
    "        #print(selection, score)\n",
    "        parents = np.vstack((parents, selection))\n",
    "    return parents\n",
    "\n",
    "def crossover(parents):\n",
    "    children = np.copy(parents)\n",
    "\n",
    "    #perform crossover where Pc is the probability that crossover takes place\n",
    "    if(np.random.rand() < Pc):\n",
    "        #get 2 random indicies for the crossover portion\n",
    "        indices = np.random.choice(l,2,replace=False)\n",
    "        #ensure first index is smaller than the second\n",
    "        if(indices[0] > indices[1]):\n",
    "            temp = indices[0]\n",
    "            indices[0] = indices[1]\n",
    "            indices[1] = temp\n",
    "        #print(indices)\n",
    "\n",
    "        children[0][indices[0]:indices[1]] = parents[1][indices[0]:indices[1]]\n",
    "        children[1][indices[0]:indices[1]] = parents[0][indices[0]:indices[1]]\n",
    "    return children\n",
    "\n",
    "def mutate(children):\n",
    "    for child in children:\n",
    "        for i in range(0, len(child)):\n",
    "            if(np.random.rand() < Pm):\n",
    "                #print(i)\n",
    "                if(child[i] == 0):\n",
    "                    child[i] = 1\n",
    "                else:\n",
    "                    child[i] = 0"
   ]
  },
  {
   "cell_type": "code",
   "execution_count": 12,
   "metadata": {},
   "outputs": [
    {
     "name": "stdout",
     "output_type": "stream",
     "text": [
      "c bounds: (10,1000)\tcvalue: 399.2307692307692\n",
      "g bounds: (0.05,0.99)\tgvalue: 0.2678412698412698\n"
     ]
    }
   ],
   "source": [
    "#index of the start of the c parameter from SVM \n",
    "cIndex = -1 # start at the end of the chromosome\n",
    "#index of the start of the gamma parameter from SVM\n",
    "gIndex = (l//2) + 1 #start in the middle of the chromosome\n",
    "c1 = decode(xy, cIndex, pc, ac)\n",
    "g1 = decode(xy, gIndex, pg, ag)\n",
    "print(\"c bounds: ({},{})\\tcvalue: {}\".format(ac,bc,c1))\n",
    "print(\"g bounds: ({},{})\\tgvalue: {}\".format(ag,bg,g1))"
   ]
  },
  {
   "cell_type": "markdown",
   "metadata": {},
   "source": [
    "### Perform the algorithm"
   ]
  },
  {
   "cell_type": "code",
   "execution_count": 13,
   "metadata": {},
   "outputs": [
    {
     "name": "stdout",
     "output_type": "stream",
     "text": [
      "generation:  0\n"
     ]
    },
    {
     "name": "stderr",
     "output_type": "stream",
     "text": [
      "/home/tdarrah/anaconda3/envs/auto36/lib/python3.6/site-packages/sklearn/utils/validation.py:578: DataConversionWarning: A column-vector y was passed when a 1d array was expected. Please change the shape of y to (n_samples, ), for example using ravel().\n",
      "  y = column_or_1d(y, warn=True)\n"
     ]
    },
    {
     "name": "stdout",
     "output_type": "stream",
     "text": [
      "best in generation 0 is 0.06370589350757794\n",
      "generation:  1\n",
      "best in generation 1 is 0.06358995288685143\n",
      "generation:  2\n",
      "best in generation 2 is 0.0636306321401761\n",
      "generation:  3\n",
      "best in generation 3 is 0.06351141233348445\n",
      "generation:  4\n",
      "best in generation 4 is 0.06351349974301009\n",
      "generation:  5\n",
      "best in generation 5 is 0.06351517004570217\n",
      "generation:  6\n",
      "best in generation 6 is 0.06357872901285799\n",
      "generation:  7\n",
      "best in generation 7 is 0.06351291560728937\n",
      "generation:  8\n",
      "best in generation 8 is 0.06350000895004333\n",
      "generation:  9\n",
      "best in generation 9 is 0.06349753142385191\n",
      "generation:  10\n",
      "best in generation 10 is 0.06349753142385191\n",
      "generation:  11\n",
      "best in generation 11 is 0.06350665310863168\n",
      "generation:  12\n",
      "best in generation 12 is 0.06347770040350116\n",
      "generation:  13\n",
      "best in generation 13 is 0.06362655790579697\n",
      "generation:  14\n",
      "best in generation 14 is 0.06348088724385947\n",
      "generation:  15\n",
      "best in generation 15 is 0.0635436956261266\n",
      "generation:  16\n",
      "best in generation 16 is 0.0635436956261266\n",
      "generation:  17\n",
      "best in generation 17 is 0.06372307290342945\n",
      "generation:  18\n",
      "best in generation 18 is 0.06386298761995297\n",
      "generation:  19\n",
      "best in generation 19 is 0.06368374911059278\n",
      "generation:  20\n",
      "best in generation 20 is 0.06367691767373555\n",
      "generation:  21\n",
      "best in generation 21 is 0.06368208290250665\n",
      "generation:  22\n",
      "best in generation 22 is 0.06370520192066105\n",
      "generation:  23\n",
      "best in generation 23 is 0.06385745817673331\n",
      "[0.0634777]\n",
      "Min for all generations:  [12.         0.0634777  0.         0.         0.         0.\n",
      "  0.         0.         1.         0.         0.         0.\n",
      "  1.         1.         1.         1.         1.         1.\n",
      "  1.         1.         1.         1.         1.         1.\n",
      "  1.         1.       ]\n"
     ]
    }
   ],
   "source": [
    "fittest = np.empty((0, len(xy)+2))\n",
    "final = []\n",
    "\n",
    "#solutions with the lowest error\n",
    "min0 = np.empty((0, len(xy)+2))\n",
    "min1 = np.empty((0, len(xy)+2))\n",
    "\n",
    "#for plotting\n",
    "bestList = []\n",
    "\n",
    "for k in range(gen):\n",
    "    print(\"generation: \", k)\n",
    "    \n",
    "    newPopulation = np.empty((0, len(xy)))\n",
    "    \n",
    "    #all children in a generation\n",
    "    all0 = np.empty((0, len(xy)+1))\n",
    "    all1 = np.empty((0, len(xy)+1))\n",
    "    \n",
    "    #mins for the current generation\n",
    "    minGen0 = []\n",
    "    minGen1 = []\n",
    "    \n",
    "    #for elitism / survival of the fittest\n",
    "    eliteList = np.empty((0, len(xy)+1))\n",
    "    eliteBest = []\n",
    "    eliteWorst = []\n",
    "    \n",
    "    num_folds = 3\n",
    "    \n",
    "    for j in range(pop//2): #pop//2\n",
    "        #print(\"family: \", j)\n",
    "        \n",
    "        parents = parentSelection(population, l)\n",
    "        children = crossover(parents)\n",
    "        mutate(children)\n",
    "        fitness = []\n",
    "        for child in children:\n",
    "            fitness.append(kfold(child, num_folds))\n",
    "        #print(\"fitness of child 0 in family {} is {}\".format(j, fitness[0]))\n",
    "        #print(\"fitness of child 1 in family {} is {}\".format(j, fitness[1]))\n",
    "        \n",
    "        #keep track of the fitness and the child together\n",
    "        temp0 = np.hstack((fitness[0], children[0]))\n",
    "        temp1 = np.hstack((fitness[1], children[1]))\n",
    "        \n",
    "        #update all the children in the current generation with new children\n",
    "        all0 = np.vstack((all0, temp0))\n",
    "        all1 = np.vstack((all1, temp1))\n",
    "        eliteList = np.vstack((all0,all1))  \n",
    "        \n",
    "        #update the new population\n",
    "        newPopulation = np.vstack((newPopulation, children[0], children[1]))\n",
    "        \n",
    "        #keep up with our best chromosomes\n",
    "        best = min(all0[:,0:1])\n",
    "        for i in range(0, len(all0)):\n",
    "            test = all0[i]\n",
    "            if(test[0:1] == best):\n",
    "                minGen0 = all0[i,:]\n",
    "        best = min(all1[:,0:1])\n",
    "        for i in range(0, len(all1)):\n",
    "            test = all1[i]\n",
    "            if(test[0:1] == best):\n",
    "                minGen1 = all1[i,:]\n",
    "                \n",
    "                \n",
    "    #apply elitism / survival of the fittest\n",
    "    #find best\n",
    "    best = min(eliteList[:,0:1])\n",
    "    for i in range(0, len(eliteList)):\n",
    "        test = eliteList[i]\n",
    "        if(test[0:1] == best):\n",
    "            eliteBest = eliteList[i,:]\n",
    "\n",
    "    #find worst\n",
    "    worst = max(eliteList[:,0:1])\n",
    "    for i in range(0, len(eliteList)):\n",
    "        test = eliteList[i]\n",
    "        if(test[0:1] == worst):\n",
    "            eliteWorst = eliteList[i,:]\n",
    "\n",
    "    #replace worst with best\n",
    "    for i in range(0, len(newPopulation)):\n",
    "        if(np.array_equal(newPopulation[i], eliteWorst[1:])):\n",
    "            newPopulation[i] = eliteBest[1:]\n",
    "\n",
    "    #set the population for the next round\n",
    "    population = newPopulation\n",
    "\n",
    "    #keep track of the best solutions and the generation they came from\n",
    "    min0 = np.insert(minGen0, 0, k)\n",
    "    min1 = np.insert(minGen1, 0, k)\n",
    "    fittest = np.vstack((fittest, min0, min1))\n",
    "    print(\"best in generation {} is {}\".format(k, eliteBest[0]))\n",
    "    bestList.append(eliteBest[0])\n",
    "\n",
    "#print(\"fittest: \", fittest)\n",
    "best = min(fittest[:,1:2])\n",
    "print(best)\n",
    "for i in range(0, len(fittest)):\n",
    "    test = fittest[i]\n",
    "    #print(test)\n",
    "    if(test[1:2] == best):\n",
    "        final = fittest[i,:]\n",
    "print(\"Min for all generations: \", final)"
   ]
  },
  {
   "cell_type": "code",
   "execution_count": 23,
   "metadata": {},
   "outputs": [
    {
     "name": "stdout",
     "output_type": "stream",
     "text": [
      "final solution:  [0. 0. 0. 0. 0. 0. 1. 0. 0. 0. 1. 1. 1. 1. 1. 1. 1. 1. 1. 1. 1. 1. 1. 1.]\n",
      "best accuracy:  [0.9365223]\n"
     ]
    }
   ],
   "source": [
    "print(\"final solution: \", final[2:])\n",
    "print(\"best accuracy: \", (1-final[1:2]))\n",
    "bestList.append(final[1:2])"
   ]
  },
  {
   "cell_type": "code",
   "execution_count": 15,
   "metadata": {},
   "outputs": [
    {
     "name": "stdout",
     "output_type": "stream",
     "text": [
      "1000.0 0.08282539682539683\n"
     ]
    }
   ],
   "source": [
    "c = decode(final[2:], cIndex, pc, ac)\n",
    "g = decode(final[2:], gIndex, pg, ag)\n",
    "print(c,g)"
   ]
  },
  {
   "cell_type": "code",
   "execution_count": 26,
   "metadata": {},
   "outputs": [
    {
     "name": "stdout",
     "output_type": "stream",
     "text": [
      "0.9445744779170548\n"
     ]
    }
   ],
   "source": [
    "X_train, X_test, y_train, y_test = train_test_split(X, y, test_size=.25)\n",
    "\n",
    "model = svm.SVR(kernel=\"rbf\", C=c, gamma=g)\n",
    "model.fit(X_train, y_train)\n",
    "y_pred = model.predict(X_test)\n",
    "accWithGA = model.score(X_test, y_test)\n",
    "\n",
    "print(accWithGA)"
   ]
  },
  {
   "cell_type": "code",
   "execution_count": 28,
   "metadata": {},
   "outputs": [
    {
     "data": {
      "text/plain": [
       "Text(0.5, 1.0, 'error term vs generation')"
      ]
     },
     "execution_count": 28,
     "metadata": {},
     "output_type": "execute_result"
    },
    {
     "data": {
      "image/png": "[encoded data removed]",
      "text/plain": [
       "<Figure size 432x288 with 1 Axes>"
      ]
     },
     "metadata": {
      "needs_background": "light"
     },
     "output_type": "display_data"
    }
   ],
   "source": [
    "import matplotlib.pyplot as plt\n",
    "#bestList.append(final[2:])\n",
    "plt.plot(bestList)\n",
    "plt.title(\"error term vs generation\")"
   ]
  },
  {
   "cell_type": "code",
   "execution_count": 29,
   "metadata": {},
   "outputs": [
    {
     "name": "stdout",
     "output_type": "stream",
     "text": [
      "0.8498331726986796\n"
     ]
    }
   ],
   "source": [
    "X_train, X_test, y_train, y_test = train_test_split(X, y, test_size=.25)\n",
    "\n",
    "model = svm.SVR(kernel=\"rbf\")\n",
    "model.fit(X_train, y_train)\n",
    "y_pred = model.predict(X_test)\n",
    "accNoGA = model.score(X_test, y_test)\n",
    "\n",
    "print(accNoGA)"
   ]
  },
  {
   "cell_type": "code",
   "execution_count": 30,
   "metadata": {},
   "outputs": [
    {
     "name": "stdout",
     "output_type": "stream",
     "text": [
      "Accuracy improvement with GA:  0.0947413052183752\n"
     ]
    }
   ],
   "source": [
    "print(\"Accuracy improvement with GA: \", accWithGA-accNoGA)"
   ]
  }
 ],
 "metadata": {
  "kernelspec": {
   "display_name": "Python 3",
   "language": "python",
   "name": "python3"
  },
  "language_info": {
   "codemirror_mode": {
    "name": "ipython",
    "version": 3
   },
   "file_extension": ".py",
   "mimetype": "text/x-python",
   "name": "python",
   "nbconvert_exporter": "python",
   "pygments_lexer": "ipython3",
   "version": "3.6.8"
  }
 },
 "nbformat": 4,
 "nbformat_minor": 2
}
