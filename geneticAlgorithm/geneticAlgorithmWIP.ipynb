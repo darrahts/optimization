{
 "cells": [
  {
   "cell_type": "markdown",
   "metadata": {},
   "source": [
    "### Genetic Algorithm \n",
    "- uses energy efficiency dataset https://archive.ics.uci.edu/ml/datasets/energy+efficiency#\n"
   ]
  },
  {
   "cell_type": "markdown",
   "metadata": {},
   "source": [
    "We perform energy analysis using 12 different building shapes simulated in Ecotect. The buildings differ with respect to the glazing area, the glazing area distribution, and the orientation, amongst other parameters. We simulate various settings as functions of the afore-mentioned characteristics to obtain 768 building shapes. The dataset comprises 768 samples and 8 features, aiming to predict two real valued responses. It can also be used as a multi-class classification problem if the response is rounded to the nearest integer.\n",
    "\n",
    "\n",
    "Attribute Information:\n",
    "\n",
    "The dataset contains eight attributes (or features, denoted by X1...X8) and two responses (or outcomes, denoted by y1 and y2). The aim is to use the eight features to predict each of the two responses. \n",
    "\n",
    "Specifically: \n",
    "- X1\tRelative Compactness \n",
    "- X2\tSurface Area \n",
    "- X3\tWall Area \n",
    "- X4\tRoof Area \n",
    "- X5\tOverall Height \n",
    "- X6\tOrientation \n",
    "- X7\tGlazing Area \n",
    "- X8\tGlazing Area Distribution \n",
    "- y1\tHeating Load \n",
    "- y2\tCooling Load\n",
    "\n"
   ]
  },
  {
   "cell_type": "code",
   "execution_count": null,
   "metadata": {},
   "outputs": [],
   "source": [
    "import numpy as np\n",
    "import pandas as pd\n",
    "import matplotlib.pyplot as plt\n",
    "import random\n",
    "from sklearn.model_selection import train_test_split\n",
    "from sklearn import cross_validation\n",
    "from sklearn import preprocessing\n",
    "from sklearn import svm"
   ]
  },
  {
   "cell_type": "markdown",
   "metadata": {},
   "source": [
    "### Get the dataset\n",
    "- df.sample(frac=1) shuffles the data "
   ]
  },
  {
   "cell_type": "code",
   "execution_count": null,
   "metadata": {},
   "outputs": [],
   "source": [
    "df = pd.read_csv(\"energy_efficiency.csv\")\n",
    "df = df.sample(frac=1)\n",
    "rows = len(df)\n",
    "cols = len(df.keys())\n",
    "print(rows, cols)\n",
    "df.head()"
   ]
  },
  {
   "cell_type": "markdown",
   "metadata": {},
   "source": [
    "### X6 and X8 are categorical variables"
   ]
  },
  {
   "cell_type": "code",
   "execution_count": null,
   "metadata": {},
   "outputs": [],
   "source": [
    "X = pd.get_dummies(df.iloc[:,0:(cols-2)], columns=['X6', 'X8']).values\n",
    "y = df.iloc[:, (cols-2):(cols-1)].values\n",
    "print(X[0])\n",
    "print(y[0])"
   ]
  },
  {
   "cell_type": "markdown",
   "metadata": {},
   "source": [
    "### Scale the data with minmax scaler"
   ]
  },
  {
   "cell_type": "code",
   "execution_count": null,
   "metadata": {},
   "outputs": [],
   "source": [
    "mms = preprocessing.MinMaxScaler()\n",
    "X = mms.fit_transform(X)\n",
    "print(X[0])"
   ]
  },
  {
   "cell_type": "markdown",
   "metadata": {},
   "source": [
    "### Set genetic algorithm parameters\n",
    "- M : number of generations\n",
    "- N : population size\n",
    "- Pc: probability of crossover\n",
    "- Pm: probability of mutation\n",
    "- l : string size\n",
    "- k : tournament selection contestants\n",
    "\n",
    "### **since we are performing a GA for SVM, the parameters to tune are c and gamma**\n",
    "\n",
    "#### SVM hyperparameters\n",
    "- kernel: poly, rbf, linear\n",
    "- poly: degree of polynomial\n",
    "- c: controls the tradeoff between low error and maximizing the norm of the weight\n",
    "- gamma: determines strength of training sample with gaussian kernel"
   ]
  },
  {
   "cell_type": "code",
   "execution_count": null,
   "metadata": {},
   "outputs": [],
   "source": [
    "#probability of crossover\n",
    "Pc = .95 #these do not need to sum to 1\n",
    "#probability of mutation\n",
    "Pm = .08\n",
    "#size of population\n",
    "pop = 100\n",
    "#number of generations\n",
    "gen = 50\n",
    "l = 24 # first 12 are for c, second 12 are for gamma"
   ]
  },
  {
   "cell_type": "code",
   "execution_count": null,
   "metadata": {},
   "outputs": [],
   "source": [
    "# the chromosome\n",
    "xy = np.random.choice([0,1], size=(l,), p=[.5, .5])\n",
    "print(xy)"
   ]
  },
  {
   "cell_type": "markdown",
   "metadata": {},
   "source": [
    "### (1) Create a random population of chromosomes (potential solutions)"
   ]
  },
  {
   "cell_type": "code",
   "execution_count": null,
   "metadata": {},
   "outputs": [],
   "source": [
    "population = np.empty((0, len(xy)))\n",
    "for i in range(gen):\n",
    "    random.shuffle(xy)\n",
    "    population = np.vstack((population, xy))"
   ]
  },
  {
   "cell_type": "code",
   "execution_count": null,
   "metadata": {},
   "outputs": [],
   "source": [
    "print(population[0:5])"
   ]
  },
  {
   "cell_type": "markdown",
   "metadata": {},
   "source": [
    "### (2) Calculate precision of the chromosomes\n",
    "- Range (a,b)\n",
    "- length, l\n",
    "- precision (b-a)/(2^l-1)\n",
    "- encode (literal base 2 encoding)\n",
    "- decode (sum(bit*2^i)*precision + a"
   ]
  },
  {
   "cell_type": "code",
   "execution_count": null,
   "metadata": {},
   "outputs": [],
   "source": [
    "# parameter c, see precision formula\n",
    "ac = 10\n",
    "bc = 1000\n",
    "lc = len(xy)/2\n",
    "pc = (bc - ac)/((2**lc)-1)"
   ]
  },
  {
   "cell_type": "code",
   "execution_count": null,
   "metadata": {},
   "outputs": [],
   "source": [
    "# parameter gamma, see precision formula\n",
    "ag = .05\n",
    "bg = .99\n",
    "lg = len(xy)/2\n",
    "pg = (bg - ag)/((2**lg)-1)"
   ]
  },
  {
   "cell_type": "markdown",
   "metadata": {},
   "source": [
    "### Decode the chromosomes\n",
    "- returns a real value in the specified range for the parameter"
   ]
  },
  {
   "cell_type": "code",
   "execution_count": null,
   "metadata": {},
   "outputs": [],
   "source": [
    "def decode(xy, index, precision, lowerBound):\n",
    "    \"\"\"Decodes a chromosome into a real value\"\"\"\n",
    "    power = 0 #binary powers\n",
    "    sum = 0\n",
    "    for i in range(len(xy)//2):\n",
    "        val = xy[index]*(2**power)\n",
    "        sum += val\n",
    "        index -= 1\n",
    "        power += 1\n",
    "    return (sum * precision) + lowerBound"
   ]
  },
  {
   "cell_type": "code",
   "execution_count": null,
   "metadata": {},
   "outputs": [],
   "source": [
    "#index of the start of the c parameter from SVM \n",
    "cIndex = -1 # start at the end of the chromosome\n",
    "#index of the start of the gamma parameter from SVM\n",
    "gIndex = (l//2) + 1 #start in the middle of the chromosome\n",
    "c1 = decode(xy, cIndex, pc, ac)\n",
    "g1 = decode(xy, gIndex, pg, ag)\n",
    "print(\"c bounds: ({},{})\\tcvalue: {}\".format(ac,bc,c1))\n",
    "print(\"g bounds: ({},{})\\tgvalue: {}\".format(ag,bg,g1))\n"
   ]
  },
  {
   "cell_type": "markdown",
   "metadata": {},
   "source": [
    "### Perform the algorithm"
   ]
  },
  {
   "cell_type": "markdown",
   "metadata": {},
   "source": [
    "- keep track of children and mutations "
   ]
  },
  {
   "cell_type": "code",
   "execution_count": null,
   "metadata": {},
   "outputs": [],
   "source": [
    "def kfold(choice, num_folds):\n",
    "    c = decode(choice, cIndex, pc, ac)\n",
    "    g = decode(choice, gIndex, pg, ag)\n",
    "    total = 0\n",
    "    kf = cross_validation.KFold(len(X),n_folds=num_folds)\n",
    "\n",
    "    for train_index, test_index in kf:\n",
    "        X_train, X_test = X[train_index], X[test_index]\n",
    "        y_train, y_test = y[train_index], y[test_index]\n",
    "\n",
    "        model = svm.SVR(kernel='rbf',C=c, gamma=g)\n",
    "        model.fit(X_train, y_train)\n",
    "        acc = model.score(X_test, y_test)\n",
    "        err = 1-acc\n",
    "        total += err\n",
    "    #need the total error\n",
    "    total = total/num_folds\n",
    "    return total\n",
    "\n",
    "def parentSelection(population, l):\n",
    "    \"\"\"\n",
    "    returns two parents from a population given the chromosome size l\n",
    "    \"\"\"\n",
    "    parents = np.zeros((0, l))\n",
    "    for k in range(2):\n",
    "        #get some random samples to pick good parents\n",
    "        candidates = population[np.random.choice(len(population), 3, replace=False)]\n",
    "\n",
    "        #the best selection for a parent\n",
    "        selection = -1\n",
    "        score = 10000000\n",
    "\n",
    "        for choice in candidates:\n",
    "            #c and gamma values for SVR\n",
    "            total = kfold(choice, num_folds)\n",
    "            #print(total)\n",
    "            if (total < score):\n",
    "                score = total\n",
    "                selection = choice\n",
    "\n",
    "        #print(selection, score)\n",
    "        parents = np.vstack((parents, selection))\n",
    "    return parents\n",
    "\n",
    "def crossover(parents):\n",
    "    children = np.copy(parents)\n",
    "\n",
    "    #perform crossover where Pc is the probability that crossover takes place\n",
    "    if(np.random.rand() < Pc):\n",
    "        #get 2 random indicies for the crossover portion\n",
    "        indices = np.random.choice(l,2,replace=False)\n",
    "        #ensure first index is smaller than the second\n",
    "        if(indices[0] > indices[1]):\n",
    "            temp = indices[0]\n",
    "            indices[0] = indices[1]\n",
    "            indices[1] = temp\n",
    "        #print(indices)\n",
    "\n",
    "        children[0][indices[0]:indices[1]] = parents[1][indices[0]:indices[1]]\n",
    "        children[1][indices[0]:indices[1]] = parents[0][indices[0]:indices[1]]\n",
    "    return children\n",
    "\n",
    "def mutate(children):\n",
    "    for child in children:\n",
    "        for i in range(0, len(child)):\n",
    "            if(np.random.rand() < Pm):\n",
    "                #print(i)\n",
    "                if(child[i] == 0):\n",
    "                    child[i] = 1\n",
    "                else:\n",
    "                    child[i] = 0\n"
   ]
  },
  {
   "cell_type": "code",
   "execution_count": null,
   "metadata": {},
   "outputs": [],
   "source": [
    "bestC = []\n",
    "worstC = []\n",
    "bestG = []\n",
    "worstG = []\n",
    "\n",
    "ofg = np.empty((0, len(xy)+2))\n",
    "ofgf = []\n",
    "\n",
    "mgm0 = np.empty((0, len(xy)+1))\n",
    "mgm1 = np.empty((0, len(xy)+1))\n",
    "\n",
    "mgm00 = np.empty((0, len(xy)+2))\n",
    "mgm11 = np.empty((0, len(xy)+2))\n",
    "\n",
    "mgm000 = np.empty((0, len(xy)+2))\n",
    "mgm111 = np.empty((0, len(xy)+2))"
   ]
  },
  {
   "cell_type": "code",
   "execution_count": null,
   "metadata": {},
   "outputs": [],
   "source": [
    "#index of the start of the c parameter from SVM \n",
    "cIndex = -1 # start at the end of the chromosome\n",
    "#index of the start of the gamma parameter from SVM\n",
    "gIndex = (l//2) + 1 #start in the middle of the chromosome\n",
    "\n",
    "for i in range(1):\n",
    "    print(\"generation: \", i)\n",
    "    \n",
    "    newPopulation = np.empty((0, len(xy)))\n",
    "    \n",
    "    agc0 = np.empty((0, len(xy)+1))\n",
    "    agc1 = np.empty((0, len(xy)+1))\n",
    "    \n",
    "    mgc0 = []\n",
    "    mgc1 = []\n",
    "    \n",
    "    bestgc = np.empty((0, len(xy)+1))\n",
    "    fbgc = []\n",
    "    fwgc = []\n",
    "    \n",
    "    num_folds = 3\n",
    "    \n",
    "    \n",
    "    for j in range(3): #pop//2\n",
    "        print(\"family: \", j)\n",
    "        \n",
    "        parents = parentSelection(population, l)\n",
    "        children = crossover(parents)\n",
    "        mutate(children)\n",
    "        fitness = []\n",
    "        for child in children:\n",
    "            fitness.append(kfold(child, num_folds))\n",
    "        print(\"fitness of child 1 in family {} is {}\".format(j, fitness[0]))\n",
    "        print(\"fitness of child 2 in family {} is {}\".format(j, fitness[1]))\n",
    "        \n",
    "        temp0 = np.hstack((fitness[0], children[0]))\n",
    "        temp1 = np.hstack((fitness[1], children[1]))\n",
    "\n",
    "        agc0 = np.vstack((agc0, temp0))\n",
    "        agc1 = np.vstack((agc1, temp1))\n",
    "        bestgc = np.vstack((agc0,agc1))\n",
    "        #print(bestgc)\n",
    "        newPopulation = np.vstack((newPopulation, children[0], children[1]))\n",
    "        \n",
    "        r0 = min(agc0[:,:1])\n",
    "        for i in range(0, len(agc0)):\n",
    "            if(agc0[i,:1] == r0):\n",
    "                mgc0 = agc0[i,:]\n",
    "        #print(\"mgc0: \", mgc0)\n",
    "        \n",
    "        r1 = min(agc1[:,:1])\n",
    "        for i in range(0, len(agc1)):\n",
    "            if(agc1[i,:1] == r1):\n",
    "                mgc1 = agc1[i,:]\n",
    "        #print(\"mgc1: \", mgc1)\n",
    "        \n",
    "    best = min(bestgc[:,:1])\n",
    "    for i in range(0, len(bestgc)):\n",
    "        if(bestgc[i,:1] == best):\n",
    "            fbgc = bestgc[i,:]\n",
    "\n",
    "    worst = max(bestgc[:,:1])\n",
    "    for i in range(0, len(bestgc)):\n",
    "        if(bestgc[i,:1] == worst):\n",
    "            fwgc = bestgc[i,:]\n",
    "            \n",
    "    #print(fbgc)\n",
    "    #print(fwgc)\n",
    "    #print(fwgc[1:])\n",
    "    #print(newPopulation)\n",
    "    \n",
    "    for i in range(0, len(newPopulation)):\n",
    "        #print(newPopulation[i])\n",
    "        #print(fwgc[1:])\n",
    "        #print()\n",
    "        if(np.array_equal(newPopulation[i], fwgc[1:])):\n",
    "            #print(\"found! : \", newPopulation[i])\n",
    "            newPopulation[i] = fbgc[1:]\n",
    "    #print(newPopulation)\n",
    "    population = newPopulation\n",
    "    print(mgc0.shape)\n",
    "    mgm0 = np.vstack((mgm0, mgc0))\n",
    "    mgm1 = np.vstack((mgm1, mgc1))\n",
    "    print(mgm0.shape)\n",
    "    \n",
    "    #add generation number\n",
    "    mgm00 = np.insert(mgm0, 0, i)\n",
    "    mgm11 = np.insert(mgm1, 0, i)\n",
    "    print(mgm00.shape)\n",
    "    print(mgm000.shape)\n",
    "    \n",
    "    mgm000 = np.vstack((mgm000, mgm00))\n",
    "    mgm111 = np.vstack((mgm111, mgm00))\n",
    "    \n",
    "ofg = np.vstack((mgm000, mgm111))\n",
    "print(ofg)"
   ]
  },
  {
   "cell_type": "code",
   "execution_count": null,
   "metadata": {},
   "outputs": [],
   "source": [
    "best = min(ofg[:,:1])\n",
    "for i in range(0, len(bestgc)):\n",
    "    if(ofg[i,:1] == best):\n",
    "        ofgf = ofg[i,:]\n",
    "print(\"Min for all generations: \", ofgf)"
   ]
  },
  {
   "cell_type": "code",
   "execution_count": null,
   "metadata": {},
   "outputs": [],
   "source": []
  },
  {
   "cell_type": "code",
   "execution_count": null,
   "metadata": {},
   "outputs": [],
   "source": []
  },
  {
   "cell_type": "code",
   "execution_count": null,
   "metadata": {},
   "outputs": [],
   "source": []
  },
  {
   "cell_type": "code",
   "execution_count": null,
   "metadata": {},
   "outputs": [],
   "source": []
  }
 ],
 "metadata": {
  "kernelspec": {
   "display_name": "Python 3",
   "language": "python",
   "name": "python3"
  },
  "language_info": {
   "codemirror_mode": {
    "name": "ipython",
    "version": 3
   },
   "file_extension": ".py",
   "mimetype": "text/x-python",
   "name": "python",
   "nbconvert_exporter": "python",
   "pygments_lexer": "ipython3",
   "version": "3.6.8"
  }
 },
 "nbformat": 4,
 "nbformat_minor": 2
}
