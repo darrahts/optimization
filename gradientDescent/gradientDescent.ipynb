{
 "cells": [
  {
   "cell_type": "markdown",
   "metadata": {},
   "source": [
    "# Gradient Descent for binary classification "
   ]
  },
  {
   "cell_type": "code",
   "execution_count": 1,
   "metadata": {},
   "outputs": [],
   "source": [
    "import numpy as np\n",
    "import matplotlib.pyplot as plt"
   ]
  },
  {
   "cell_type": "markdown",
   "metadata": {},
   "source": [
    "### Functions"
   ]
  },
  {
   "cell_type": "code",
   "execution_count": 2,
   "metadata": {},
   "outputs": [],
   "source": [
    "def getRandomSamples(mu, sigma, numPoints):\n",
    "    \"\"\"Returns a numpy array of random points in the form [[x0,y0], [x1,y1], ...]\"\"\"\n",
    "    xRV = np.random.normal(mu, sigma, numPoints) #mu, sigma\n",
    "    yRV = np.random.normal(mu, sigma, numPoints) #mu, sigma\n",
    "    samples = np.array([xRV, yRV]).T\n",
    "    return samples\n",
    "    \n",
    "def sigmoid(x):\n",
    "    \"\"\"Returns the sigmoid of a x in the same shape of x (scalar, vector, matrix, etc...)\"\"\"\n",
    "    return 1/(1+np.exp(-x))\n",
    "\n",
    "def crossEntropy(points, params, y):\n",
    "    \"\"\"\n",
    "    Returns the cross entropy i.e. a measure of model performance\n",
    "    https://towardsdatascience.com/demystifying-cross-entropy-e80e3ad54a8\n",
    "    \"\"\"\n",
    "    n = points.shape[0] #number of points\n",
    "    p = sigmoid(points*params)\n",
    "    ce = -(1/n)*(np.log(p).T*y + np.log(1-p).T*(1-y))\n",
    "    return ce\n",
    "\n",
    "def gradient_descent(points, params, y , alpha, epochs):\n",
    "    \"\"\"finds the line of best fit by gradient desecent\"\"\"\n",
    "    n=points.shape[0]\n",
    "    for i in range(epochs):\n",
    "        p=sigmoid(points*params)\n",
    "        gradient= points.T*(p-y)*(alpha/n)\n",
    "        params = params - gradient\n",
    "        w1,w2,b = np.asarray(params)[:,0]\n",
    "        x1=np.array([points[:,0].min(), points[:,0].max()])\n",
    "        x2= -b/w2 + (x1*(-w1/w2))\n",
    "        #updatePlot(x1,x2) # <================= comment this out if running in in jupyter notebook\n",
    "        ce = crossEntropy(points,params, y)\n",
    "        #print(ce)\n",
    "    return x1, x2, ce\n",
    "        \n",
    "def updatePlot(x1,x2):\n",
    "    \"\"\"updates the plot for animation\"\"\"\n",
    "    line = plt.plot(x1,x2)\n",
    "    plt.pause(0.0001)\n",
    "    line[0].remove()"
   ]
  },
  {
   "cell_type": "markdown",
   "metadata": {},
   "source": [
    "### Generate two random classes"
   ]
  },
  {
   "cell_type": "code",
   "execution_count": 3,
   "metadata": {},
   "outputs": [],
   "source": [
    "#use random seed to reproduce the same samples\n",
    "#np.random.seed(31)\n",
    "numPoints=100 #points per class\n",
    "mu1 = 10.1\n",
    "sigma1 = 1.7\n",
    "mu2 = 5.2\n",
    "sigma2 = 1.6\n",
    "class1 = getRandomSamples(mu1, sigma1, numPoints)\n",
    "class2 = getRandomSamples(mu2, sigma2, numPoints)\n",
    "points = np.vstack((class1, class2))"
   ]
  },
  {
   "cell_type": "markdown",
   "metadata": {},
   "source": [
    "### Show the samples"
   ]
  },
  {
   "cell_type": "code",
   "execution_count": 4,
   "metadata": {},
   "outputs": [
    {
     "data": {
      "image/png": "[encoded data removed]",
      "text/plain": [
       "<Figure size 432x288 with 1 Axes>"
      ]
     },
     "metadata": {
      "needs_background": "light"
     },
     "output_type": "display_data"
    }
   ],
   "source": [
    "plt.scatter(class1[:,0], class1[:,1], color='b')\n",
    "plt.scatter(class2[:,0], class2[:,1], color='r')\n",
    "plt.show()"
   ]
  },
  {
   "cell_type": "markdown",
   "metadata": {},
   "source": [
    "### estimate the initial line of separation (model)\n",
    "- can use all zeros, play with the values\n",
    "- w1x1 + w2x2 + b = 0 (i.e. y=mx+b)"
   ]
  },
  {
   "cell_type": "code",
   "execution_count": 5,
   "metadata": {},
   "outputs": [],
   "source": [
    "w1 = np.random.normal(0, .1, 1)[0]\n",
    "w2 = np.random.normal(0, .1, 1)[0]\n",
    "b = np.random.normal(0, .1, 1)[0]\n",
    "params = np.matrix([w1, w2, b]).T\n",
    "x1 = np.array([points[:,0].min(), points[:,0].max()]) \n",
    "x2 = -b/w2 + x1*(-w1/w2) #again, y=mx+b "
   ]
  },
  {
   "cell_type": "markdown",
   "metadata": {},
   "source": [
    "### Show the initial estimated line\n",
    "- depending on the values, it might not show if set_ylim is active"
   ]
  },
  {
   "cell_type": "code",
   "execution_count": 6,
   "metadata": {},
   "outputs": [
    {
     "data": {
      "image/png": "[encoded data removed]",
      "text/plain": [
       "<Figure size 432x288 with 1 Axes>"
      ]
     },
     "metadata": {
      "needs_background": "light"
     },
     "output_type": "display_data"
    }
   ],
   "source": [
    "plt.scatter(class1[:,0], class1[:,1], color='b')\n",
    "plt.scatter(class2[:,0], class2[:,1], color='r')\n",
    "plt.plot(x1,x2)\n",
    "axes = plt.gca()\n",
    "#comment this line out if needed\n",
    "#axes.set_ylim([0,points[:,1].max()+2]) #set the y axis range, looks better like this\n",
    "plt.show()"
   ]
  },
  {
   "cell_type": "markdown",
   "metadata": {},
   "source": [
    "### Generate the bias\n",
    "- set to 1, used for convention, not necessary for this example"
   ]
  },
  {
   "cell_type": "code",
   "execution_count": 7,
   "metadata": {},
   "outputs": [],
   "source": [
    "bias = np.ones((numPoints*2,1))\n",
    "points = np.hstack((points, bias))"
   ]
  },
  {
   "cell_type": "markdown",
   "metadata": {},
   "source": [
    "### Generate the labels"
   ]
  },
  {
   "cell_type": "code",
   "execution_count": 8,
   "metadata": {},
   "outputs": [],
   "source": [
    "y = np.array([np.zeros(numPoints), np.ones(numPoints)]).flatten().reshape(numPoints*2,1) "
   ]
  },
  {
   "cell_type": "markdown",
   "metadata": {},
   "source": [
    "### Use cross entropy to evaluate our model \n",
    "- our model is the line w1x1 + w2x2 +b = 0\n",
    "- cross entropy -(ln(P(classA)) + ln(P(classB)) ...)\n",
    "- https://ml-cheatsheet.readthedocs.io/en/latest/loss_functions.html\n",
    "- lower entropy = better model\n",
    "- then gradient decent is used to continue to minimize the error calculated by cross entropy"
   ]
  },
  {
   "cell_type": "code",
   "execution_count": 9,
   "metadata": {},
   "outputs": [],
   "source": [
    "ce = crossEntropy(points, params, y)"
   ]
  },
  {
   "cell_type": "markdown",
   "metadata": {},
   "source": [
    "### If NOT running in jupyter notebook, uncomment these to initialize the plot for visualization"
   ]
  },
  {
   "cell_type": "code",
   "execution_count": 10,
   "metadata": {},
   "outputs": [],
   "source": [
    "# plt.scatter(class1[:,0], class1[:,1], color='b')\n",
    "# plt.scatter(class2[:,0], class2[:,1], color='g')\n",
    "# axes = plt.gca()\n",
    "# axes.set_ylim([0,points[:,1].max()+2]) "
   ]
  },
  {
   "cell_type": "markdown",
   "metadata": {},
   "source": [
    "### Perform gradient descent and visualize the progress in real time if not running on jupyter\n",
    "- TODO add animation to jupyter for this, there are a couple of ways to do it"
   ]
  },
  {
   "cell_type": "code",
   "execution_count": 11,
   "metadata": {},
   "outputs": [],
   "source": [
    "x1, x2, ce = gradient_descent(points, params, y , 0.06, 1500)"
   ]
  },
  {
   "cell_type": "markdown",
   "metadata": {},
   "source": [
    "### if NOT running in jupyter notebook, comment these lines out as the graph is already visualized\n",
    "- here we plot the final line found by gradient descent"
   ]
  },
  {
   "cell_type": "code",
   "execution_count": 12,
   "metadata": {},
   "outputs": [
    {
     "data": {
      "text/plain": [
       "[<matplotlib.lines.Line2D at 0x7f3cb5062b38>]"
      ]
     },
     "execution_count": 12,
     "metadata": {},
     "output_type": "execute_result"
    },
    {
     "data": {
      "image/png": "[encoded data removed]",
      "text/plain": [
       "<Figure size 432x288 with 1 Axes>"
      ]
     },
     "metadata": {
      "needs_background": "light"
     },
     "output_type": "display_data"
    }
   ],
   "source": [
    "plt.scatter(class1[:,0], class1[:,1], color='b')\n",
    "plt.scatter(class2[:,0], class2[:,1], color='r')\n",
    "axes = plt.gca()\n",
    "axes.set_ylim([0,points[:,1].max()+2]) \n",
    "plt.plot(x1,x2)"
   ]
  },
  {
   "cell_type": "code",
   "execution_count": 13,
   "metadata": {},
   "outputs": [],
   "source": [
    "plt.show()"
   ]
  },
  {
   "cell_type": "markdown",
   "metadata": {},
   "source": [
    "### Finally, what is the cross entropy of our model (measure of performance)"
   ]
  },
  {
   "cell_type": "code",
   "execution_count": 14,
   "metadata": {},
   "outputs": [
    {
     "name": "stdout",
     "output_type": "stream",
     "text": [
      "[[0.19168998]]\n"
     ]
    }
   ],
   "source": [
    "print(ce)"
   ]
  },
  {
   "cell_type": "code",
   "execution_count": null,
   "metadata": {},
   "outputs": [],
   "source": []
  },
  {
   "cell_type": "code",
   "execution_count": null,
   "metadata": {},
   "outputs": [],
   "source": []
  },
  {
   "cell_type": "code",
   "execution_count": null,
   "metadata": {},
   "outputs": [],
   "source": []
  },
  {
   "cell_type": "code",
   "execution_count": null,
   "metadata": {},
   "outputs": [],
   "source": []
  },
  {
   "cell_type": "code",
   "execution_count": null,
   "metadata": {},
   "outputs": [],
   "source": []
  },
  {
   "cell_type": "code",
   "execution_count": null,
   "metadata": {},
   "outputs": [],
   "source": []
  }
 ],
 "metadata": {
  "kernelspec": {
   "display_name": "Python 3",
   "language": "python",
   "name": "python3"
  },
  "language_info": {
   "codemirror_mode": {
    "name": "ipython",
    "version": 3
   },
   "file_extension": ".py",
   "mimetype": "text/x-python",
   "name": "python",
   "nbconvert_exporter": "python",
   "pygments_lexer": "ipython3",
   "version": "3.6.8"
  }
 },
 "nbformat": 4,
 "nbformat_minor": 2
}
